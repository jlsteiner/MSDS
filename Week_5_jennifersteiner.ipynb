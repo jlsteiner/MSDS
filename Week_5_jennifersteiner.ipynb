{
 "cells": [
  {
   "cell_type": "markdown",
   "id": "165166dd",
   "metadata": {},
   "source": [
    "# DS Automation Assignment"
   ]
  },
  {
   "cell_type": "markdown",
   "id": "c195af74",
   "metadata": {},
   "source": [
    "Using our prepared churn data from week 2:\n",
    "- use pycaret to find an ML algorithm that performs best on the data\n",
    "    - Choose a metric you think is best to use for finding the best model; by default, it is accuracy but it could be AUC, precision, recall, etc. The week 3 FTE has some information on these different metrics.\n",
    "- save the model to disk\n",
    "- create a Python script/file/module with a function that takes a pandas dataframe as an input and returns the probability of churn for each row in the dataframe\n",
    "    - your Python file/function should print out the predictions for new data (new_churn_data.csv)\n",
    "    - the true values for the new data are [1, 0, 0, 1, 0] if you're interested\n",
    "- test your Python module and function with the new data, new_churn_data.csv\n",
    "- write a short summary of the process and results at the end of this notebook\n",
    "- upload this Jupyter Notebook and Python file to a Github repository, and turn in a link to the repository in the week 5 assignment dropbox\n",
    "\n",
    "*Optional* challenges:\n",
    "- return the probability of churn for each new prediction, and the percentile where that prediction is in the distribution of probability predictions from the training dataset (e.g. a high probability of churn like 0.78 might be at the 90th percentile)\n",
    "- use other autoML packages, such as TPOT, H2O, MLBox, etc, and compare performance and features with pycaret\n",
    "- create a class in your Python module to hold the functions that you created\n",
    "- accept user input to specify a file using a tool such as Python's `input()` function, the `click` package for command-line arguments, or a GUI\n",
    "- Use the unmodified churn data (new_unmodified_churn_data.csv) in your Python script. This will require adding the same preprocessing steps from week 2 since this data is like the original unmodified dataset from week 1."
   ]
  },
  {
   "cell_type": "markdown",
   "id": "af79f441-3d79-495d-b32d-fcc811c3a599",
   "metadata": {},
   "source": [
    "Initially, I thought I had corrupted my conda and uninstalled/reinstalled. Yeah, that was fun, but it happens. After reinstalling, the sklearn for the confusion matrix threw an error. I looked it up and it's being replaced with sklearn.metrics.ConfusionMatrixDisplay (reference: https://scikit-learn.org/stable/modules/generated/sklearn.metrics.ConfusionMatrixDisplay.html#sklearn-metrics-confusionmatrixdisplay )\n",
    "\n",
    "I began the assignment without creating a virtual environment first.  I got most of the way through it, but it kept throwing an error.  Then, I grew a brain and reread the pycaret ipynb, which noted how to check which version of python, etc., you are using.  Yeah, I had to create the virtual.  So, followed the steps that were provided.\n"
   ]
  },
  {
   "cell_type": "code",
   "execution_count": 2,
   "id": "329a9f7e-0958-4085-b9f2-514035999bb0",
   "metadata": {
    "tags": []
   },
   "outputs": [
    {
     "name": "stdout",
     "output_type": "stream",
     "text": [
      "Available kernels:\n",
      "  week5      C:\\Users\\jenni\\AppData\\Roaming\\jupyter\\kernels\\week5\n",
      "  python3    C:\\Users\\jenni\\anaconda3\\share\\jupyter\\kernels\\python3\n"
     ]
    },
    {
     "name": "stderr",
     "output_type": "stream",
     "text": [
      "0.01s - Debugger warning: It seems that frozen modules are being used, which may\n",
      "0.00s - make the debugger miss breakpoints. Please pass -Xfrozen_modules=off\n",
      "0.00s - to python to disable frozen modules.\n",
      "0.00s - Note: Debugging will proceed. Set PYDEVD_DISABLE_FILE_VALIDATION=1 to disable this validation.\n"
     ]
    }
   ],
   "source": [
    "!jupyter kernelspec list"
   ]
  },
  {
   "cell_type": "code",
   "execution_count": 1,
   "id": "f15a3e47-b538-41c0-9ab4-639c14a252a1",
   "metadata": {
    "tags": []
   },
   "outputs": [],
   "source": [
    "import warnings\n",
    "warnings.filterwarnings(\"ignore\")"
   ]
  },
  {
   "cell_type": "code",
   "execution_count": 3,
   "id": "476ed965",
   "metadata": {
    "tags": []
   },
   "outputs": [],
   "source": [
    "import pandas as pd\n",
    "from ydata_profiling import ProfileReport\n",
    "from sklearn.tree import DecisionTreeClassifier, plot_tree\n",
    "from sklearn.model_selection import train_test_split\n",
    "from sklearn.linear_model import LogisticRegression\n",
    "from sklearn.metrics import ConfusionMatrixDisplay\n",
    "import matplotlib.pyplot as plt"
   ]
  },
  {
   "cell_type": "markdown",
   "id": "2cc747ed-9ae7-4f15-b12c-b809862847ad",
   "metadata": {},
   "source": [
    "For giggles, I wanted to see how this worked with the prepped data vs the unprepped data.  I also wanted to see if I had to name everything\n",
    "df or if I could use df2, etc.  That was a face/palm moment, since df is just the alias we give the data frame.  "
   ]
  },
  {
   "cell_type": "code",
   "execution_count": 5,
   "id": "fb85b526-d11f-4560-9838-a413a901cbf3",
   "metadata": {},
   "outputs": [
    {
     "data": {
      "text/html": [
       "<div>\n",
       "<style scoped>\n",
       "    .dataframe tbody tr th:only-of-type {\n",
       "        vertical-align: middle;\n",
       "    }\n",
       "\n",
       "    .dataframe tbody tr th {\n",
       "        vertical-align: top;\n",
       "    }\n",
       "\n",
       "    .dataframe thead th {\n",
       "        text-align: right;\n",
       "    }\n",
       "</style>\n",
       "<table border=\"1\" class=\"dataframe\">\n",
       "  <thead>\n",
       "    <tr style=\"text-align: right;\">\n",
       "      <th></th>\n",
       "      <th>tenure</th>\n",
       "      <th>PhoneService</th>\n",
       "      <th>Contract</th>\n",
       "      <th>PaymentMethod</th>\n",
       "      <th>MonthlyCharges</th>\n",
       "      <th>TotalCharges</th>\n",
       "      <th>Churn</th>\n",
       "    </tr>\n",
       "    <tr>\n",
       "      <th>customerID</th>\n",
       "      <th></th>\n",
       "      <th></th>\n",
       "      <th></th>\n",
       "      <th></th>\n",
       "      <th></th>\n",
       "      <th></th>\n",
       "      <th></th>\n",
       "    </tr>\n",
       "  </thead>\n",
       "  <tbody>\n",
       "    <tr>\n",
       "      <th>7590-VHVEG</th>\n",
       "      <td>1</td>\n",
       "      <td>0</td>\n",
       "      <td>0</td>\n",
       "      <td>0</td>\n",
       "      <td>29.85</td>\n",
       "      <td>29.85</td>\n",
       "      <td>0</td>\n",
       "    </tr>\n",
       "    <tr>\n",
       "      <th>5575-GNVDE</th>\n",
       "      <td>34</td>\n",
       "      <td>1</td>\n",
       "      <td>1</td>\n",
       "      <td>1</td>\n",
       "      <td>56.95</td>\n",
       "      <td>1889.50</td>\n",
       "      <td>0</td>\n",
       "    </tr>\n",
       "    <tr>\n",
       "      <th>3668-QPYBK</th>\n",
       "      <td>2</td>\n",
       "      <td>1</td>\n",
       "      <td>0</td>\n",
       "      <td>1</td>\n",
       "      <td>53.85</td>\n",
       "      <td>108.15</td>\n",
       "      <td>1</td>\n",
       "    </tr>\n",
       "    <tr>\n",
       "      <th>7795-CFOCW</th>\n",
       "      <td>45</td>\n",
       "      <td>0</td>\n",
       "      <td>1</td>\n",
       "      <td>2</td>\n",
       "      <td>42.30</td>\n",
       "      <td>1840.75</td>\n",
       "      <td>0</td>\n",
       "    </tr>\n",
       "    <tr>\n",
       "      <th>9237-HQITU</th>\n",
       "      <td>2</td>\n",
       "      <td>1</td>\n",
       "      <td>0</td>\n",
       "      <td>0</td>\n",
       "      <td>70.70</td>\n",
       "      <td>151.65</td>\n",
       "      <td>1</td>\n",
       "    </tr>\n",
       "    <tr>\n",
       "      <th>...</th>\n",
       "      <td>...</td>\n",
       "      <td>...</td>\n",
       "      <td>...</td>\n",
       "      <td>...</td>\n",
       "      <td>...</td>\n",
       "      <td>...</td>\n",
       "      <td>...</td>\n",
       "    </tr>\n",
       "    <tr>\n",
       "      <th>6840-RESVB</th>\n",
       "      <td>24</td>\n",
       "      <td>1</td>\n",
       "      <td>1</td>\n",
       "      <td>1</td>\n",
       "      <td>84.80</td>\n",
       "      <td>1990.50</td>\n",
       "      <td>0</td>\n",
       "    </tr>\n",
       "    <tr>\n",
       "      <th>2234-XADUH</th>\n",
       "      <td>72</td>\n",
       "      <td>1</td>\n",
       "      <td>1</td>\n",
       "      <td>3</td>\n",
       "      <td>103.20</td>\n",
       "      <td>7362.90</td>\n",
       "      <td>0</td>\n",
       "    </tr>\n",
       "    <tr>\n",
       "      <th>4801-JZAZL</th>\n",
       "      <td>11</td>\n",
       "      <td>0</td>\n",
       "      <td>0</td>\n",
       "      <td>0</td>\n",
       "      <td>29.60</td>\n",
       "      <td>346.45</td>\n",
       "      <td>0</td>\n",
       "    </tr>\n",
       "    <tr>\n",
       "      <th>8361-LTMKD</th>\n",
       "      <td>4</td>\n",
       "      <td>1</td>\n",
       "      <td>0</td>\n",
       "      <td>1</td>\n",
       "      <td>74.40</td>\n",
       "      <td>306.60</td>\n",
       "      <td>1</td>\n",
       "    </tr>\n",
       "    <tr>\n",
       "      <th>3186-AJIEK</th>\n",
       "      <td>66</td>\n",
       "      <td>1</td>\n",
       "      <td>2</td>\n",
       "      <td>2</td>\n",
       "      <td>105.65</td>\n",
       "      <td>6844.50</td>\n",
       "      <td>0</td>\n",
       "    </tr>\n",
       "  </tbody>\n",
       "</table>\n",
       "<p>7043 rows × 7 columns</p>\n",
       "</div>"
      ],
      "text/plain": [
       "            tenure  PhoneService  Contract  PaymentMethod  MonthlyCharges  \\\n",
       "customerID                                                                  \n",
       "7590-VHVEG       1             0         0              0           29.85   \n",
       "5575-GNVDE      34             1         1              1           56.95   \n",
       "3668-QPYBK       2             1         0              1           53.85   \n",
       "7795-CFOCW      45             0         1              2           42.30   \n",
       "9237-HQITU       2             1         0              0           70.70   \n",
       "...            ...           ...       ...            ...             ...   \n",
       "6840-RESVB      24             1         1              1           84.80   \n",
       "2234-XADUH      72             1         1              3          103.20   \n",
       "4801-JZAZL      11             0         0              0           29.60   \n",
       "8361-LTMKD       4             1         0              1           74.40   \n",
       "3186-AJIEK      66             1         2              2          105.65   \n",
       "\n",
       "            TotalCharges  Churn  \n",
       "customerID                       \n",
       "7590-VHVEG         29.85      0  \n",
       "5575-GNVDE       1889.50      0  \n",
       "3668-QPYBK        108.15      1  \n",
       "7795-CFOCW       1840.75      0  \n",
       "9237-HQITU        151.65      1  \n",
       "...                  ...    ...  \n",
       "6840-RESVB       1990.50      0  \n",
       "2234-XADUH       7362.90      0  \n",
       "4801-JZAZL        346.45      0  \n",
       "8361-LTMKD        306.60      1  \n",
       "3186-AJIEK       6844.50      0  \n",
       "\n",
       "[7043 rows x 7 columns]"
      ]
     },
     "execution_count": 5,
     "metadata": {},
     "output_type": "execute_result"
    }
   ],
   "source": [
    "df = pd.read_csv('C:/Users/jenni/Documents/MSDS600/prepped_churn_data1.csv', index_col='customerID')\n",
    "df"
   ]
  },
  {
   "cell_type": "code",
   "execution_count": 8,
   "id": "dcc7b21b-6e87-4326-b5b3-af1f56941238",
   "metadata": {
    "tags": []
   },
   "outputs": [
    {
     "name": "stdout",
     "output_type": "stream",
     "text": [
      "<class 'pandas.core.frame.DataFrame'>\n",
      "Index: 7043 entries, 7590-VHVEG to 3186-AJIEK\n",
      "Data columns (total 7 columns):\n",
      " #   Column          Non-Null Count  Dtype  \n",
      "---  ------          --------------  -----  \n",
      " 0   tenure          7043 non-null   int64  \n",
      " 1   PhoneService    7043 non-null   int64  \n",
      " 2   Contract        7043 non-null   int64  \n",
      " 3   PaymentMethod   7043 non-null   int64  \n",
      " 4   MonthlyCharges  7043 non-null   float64\n",
      " 5   TotalCharges    7043 non-null   float64\n",
      " 6   Churn           7043 non-null   int64  \n",
      "dtypes: float64(2), int64(5)\n",
      "memory usage: 440.2+ KB\n"
     ]
    }
   ],
   "source": [
    "df.info()"
   ]
  },
  {
   "cell_type": "code",
   "execution_count": 10,
   "id": "4d35205f-799a-4cea-82f6-97526016a0b3",
   "metadata": {},
   "outputs": [
    {
     "data": {
      "text/html": [
       "<div>\n",
       "<style scoped>\n",
       "    .dataframe tbody tr th:only-of-type {\n",
       "        vertical-align: middle;\n",
       "    }\n",
       "\n",
       "    .dataframe tbody tr th {\n",
       "        vertical-align: top;\n",
       "    }\n",
       "\n",
       "    .dataframe thead th {\n",
       "        text-align: right;\n",
       "    }\n",
       "</style>\n",
       "<table border=\"1\" class=\"dataframe\">\n",
       "  <thead>\n",
       "    <tr style=\"text-align: right;\">\n",
       "      <th></th>\n",
       "      <th>tenure</th>\n",
       "      <th>PhoneService</th>\n",
       "      <th>Contract</th>\n",
       "      <th>PaymentMethod</th>\n",
       "      <th>MonthlyCharges</th>\n",
       "      <th>TotalCharges</th>\n",
       "      <th>Churn</th>\n",
       "    </tr>\n",
       "    <tr>\n",
       "      <th>customerID</th>\n",
       "      <th></th>\n",
       "      <th></th>\n",
       "      <th></th>\n",
       "      <th></th>\n",
       "      <th></th>\n",
       "      <th></th>\n",
       "      <th></th>\n",
       "    </tr>\n",
       "  </thead>\n",
       "  <tbody>\n",
       "    <tr>\n",
       "      <th>7590-VHVEG</th>\n",
       "      <td>1</td>\n",
       "      <td>No</td>\n",
       "      <td>Month-to-month</td>\n",
       "      <td>Electronic check</td>\n",
       "      <td>29.85</td>\n",
       "      <td>29.85</td>\n",
       "      <td>No</td>\n",
       "    </tr>\n",
       "    <tr>\n",
       "      <th>5575-GNVDE</th>\n",
       "      <td>34</td>\n",
       "      <td>Yes</td>\n",
       "      <td>One year</td>\n",
       "      <td>Mailed check</td>\n",
       "      <td>56.95</td>\n",
       "      <td>1889.50</td>\n",
       "      <td>No</td>\n",
       "    </tr>\n",
       "    <tr>\n",
       "      <th>3668-QPYBK</th>\n",
       "      <td>2</td>\n",
       "      <td>Yes</td>\n",
       "      <td>Month-to-month</td>\n",
       "      <td>Mailed check</td>\n",
       "      <td>53.85</td>\n",
       "      <td>108.15</td>\n",
       "      <td>Yes</td>\n",
       "    </tr>\n",
       "    <tr>\n",
       "      <th>7795-CFOCW</th>\n",
       "      <td>45</td>\n",
       "      <td>No</td>\n",
       "      <td>One year</td>\n",
       "      <td>Bank transfer (automatic)</td>\n",
       "      <td>42.30</td>\n",
       "      <td>1840.75</td>\n",
       "      <td>No</td>\n",
       "    </tr>\n",
       "    <tr>\n",
       "      <th>9237-HQITU</th>\n",
       "      <td>2</td>\n",
       "      <td>Yes</td>\n",
       "      <td>Month-to-month</td>\n",
       "      <td>Electronic check</td>\n",
       "      <td>70.70</td>\n",
       "      <td>151.65</td>\n",
       "      <td>Yes</td>\n",
       "    </tr>\n",
       "    <tr>\n",
       "      <th>...</th>\n",
       "      <td>...</td>\n",
       "      <td>...</td>\n",
       "      <td>...</td>\n",
       "      <td>...</td>\n",
       "      <td>...</td>\n",
       "      <td>...</td>\n",
       "      <td>...</td>\n",
       "    </tr>\n",
       "    <tr>\n",
       "      <th>6840-RESVB</th>\n",
       "      <td>24</td>\n",
       "      <td>Yes</td>\n",
       "      <td>One year</td>\n",
       "      <td>Mailed check</td>\n",
       "      <td>84.80</td>\n",
       "      <td>1990.50</td>\n",
       "      <td>No</td>\n",
       "    </tr>\n",
       "    <tr>\n",
       "      <th>2234-XADUH</th>\n",
       "      <td>72</td>\n",
       "      <td>Yes</td>\n",
       "      <td>One year</td>\n",
       "      <td>Credit card (automatic)</td>\n",
       "      <td>103.20</td>\n",
       "      <td>7362.90</td>\n",
       "      <td>No</td>\n",
       "    </tr>\n",
       "    <tr>\n",
       "      <th>4801-JZAZL</th>\n",
       "      <td>11</td>\n",
       "      <td>No</td>\n",
       "      <td>Month-to-month</td>\n",
       "      <td>Electronic check</td>\n",
       "      <td>29.60</td>\n",
       "      <td>346.45</td>\n",
       "      <td>No</td>\n",
       "    </tr>\n",
       "    <tr>\n",
       "      <th>8361-LTMKD</th>\n",
       "      <td>4</td>\n",
       "      <td>Yes</td>\n",
       "      <td>Month-to-month</td>\n",
       "      <td>Mailed check</td>\n",
       "      <td>74.40</td>\n",
       "      <td>306.60</td>\n",
       "      <td>Yes</td>\n",
       "    </tr>\n",
       "    <tr>\n",
       "      <th>3186-AJIEK</th>\n",
       "      <td>66</td>\n",
       "      <td>Yes</td>\n",
       "      <td>Two year</td>\n",
       "      <td>Bank transfer (automatic)</td>\n",
       "      <td>105.65</td>\n",
       "      <td>6844.50</td>\n",
       "      <td>No</td>\n",
       "    </tr>\n",
       "  </tbody>\n",
       "</table>\n",
       "<p>7043 rows × 7 columns</p>\n",
       "</div>"
      ],
      "text/plain": [
       "            tenure PhoneService        Contract              PaymentMethod  \\\n",
       "customerID                                                                   \n",
       "7590-VHVEG       1           No  Month-to-month           Electronic check   \n",
       "5575-GNVDE      34          Yes        One year               Mailed check   \n",
       "3668-QPYBK       2          Yes  Month-to-month               Mailed check   \n",
       "7795-CFOCW      45           No        One year  Bank transfer (automatic)   \n",
       "9237-HQITU       2          Yes  Month-to-month           Electronic check   \n",
       "...            ...          ...             ...                        ...   \n",
       "6840-RESVB      24          Yes        One year               Mailed check   \n",
       "2234-XADUH      72          Yes        One year    Credit card (automatic)   \n",
       "4801-JZAZL      11           No  Month-to-month           Electronic check   \n",
       "8361-LTMKD       4          Yes  Month-to-month               Mailed check   \n",
       "3186-AJIEK      66          Yes        Two year  Bank transfer (automatic)   \n",
       "\n",
       "            MonthlyCharges  TotalCharges Churn  \n",
       "customerID                                      \n",
       "7590-VHVEG           29.85         29.85    No  \n",
       "5575-GNVDE           56.95       1889.50    No  \n",
       "3668-QPYBK           53.85        108.15   Yes  \n",
       "7795-CFOCW           42.30       1840.75    No  \n",
       "9237-HQITU           70.70        151.65   Yes  \n",
       "...                    ...           ...   ...  \n",
       "6840-RESVB           84.80       1990.50    No  \n",
       "2234-XADUH          103.20       7362.90    No  \n",
       "4801-JZAZL           29.60        346.45    No  \n",
       "8361-LTMKD           74.40        306.60   Yes  \n",
       "3186-AJIEK          105.65       6844.50    No  \n",
       "\n",
       "[7043 rows x 7 columns]"
      ]
     },
     "execution_count": 10,
     "metadata": {},
     "output_type": "execute_result"
    }
   ],
   "source": [
    "df2 = pd.read_csv('C:/Users/jenni/Documents/MSDS600/churn_data(1).csv', index_col='customerID')\n",
    "df2"
   ]
  },
  {
   "cell_type": "code",
   "execution_count": 12,
   "id": "8b141784-aa11-4707-beda-0d2f81ae0793",
   "metadata": {
    "tags": []
   },
   "outputs": [
    {
     "name": "stdout",
     "output_type": "stream",
     "text": [
      "<class 'pandas.core.frame.DataFrame'>\n",
      "Index: 7043 entries, 7590-VHVEG to 3186-AJIEK\n",
      "Data columns (total 7 columns):\n",
      " #   Column          Non-Null Count  Dtype  \n",
      "---  ------          --------------  -----  \n",
      " 0   tenure          7043 non-null   int64  \n",
      " 1   PhoneService    7043 non-null   object \n",
      " 2   Contract        7043 non-null   object \n",
      " 3   PaymentMethod   7043 non-null   object \n",
      " 4   MonthlyCharges  7043 non-null   float64\n",
      " 5   TotalCharges    7032 non-null   float64\n",
      " 6   Churn           7043 non-null   object \n",
      "dtypes: float64(2), int64(1), object(4)\n",
      "memory usage: 440.2+ KB\n"
     ]
    }
   ],
   "source": [
    "df2.info()"
   ]
  },
  {
   "cell_type": "code",
   "execution_count": 14,
   "id": "98a0b1f6-b181-4475-8a66-ed0f967de131",
   "metadata": {
    "tags": []
   },
   "outputs": [],
   "source": [
    "from pycaret.classification import setup, compare_models, predict_model, save_model, load_model, ClassificationExperiment"
   ]
  },
  {
   "cell_type": "markdown",
   "id": "60a9fd26-ab25-4a49-9742-7db624ddacf1",
   "metadata": {},
   "source": [
    "I combined what Nate had in his FTE and what you (Christy) had into a single statement"
   ]
  },
  {
   "cell_type": "code",
   "execution_count": 17,
   "id": "9e27b302-e474-4fea-a385-361a38c29d64",
   "metadata": {
    "tags": []
   },
   "outputs": [],
   "source": [
    "automl = ClassificationExperiment()"
   ]
  },
  {
   "cell_type": "markdown",
   "id": "c8d50a12-3ff1-44a6-a17b-70a11a9ca307",
   "metadata": {},
   "source": [
    "Since I wanted to see how things were different between the two data sets--for my own weird data freak mind--automl1 is the clean set and\n",
    "automl is the raw."
   ]
  },
  {
   "cell_type": "code",
   "execution_count": 20,
   "id": "00a68334-0e79-4d94-968c-9c5973941bd6",
   "metadata": {
    "tags": []
   },
   "outputs": [
    {
     "data": {
      "text/html": [
       "<style type=\"text/css\">\n",
       "#T_6fa3c_row8_col1 {\n",
       "  background-color: lightgreen;\n",
       "}\n",
       "</style>\n",
       "<table id=\"T_6fa3c\">\n",
       "  <thead>\n",
       "    <tr>\n",
       "      <th class=\"blank level0\" >&nbsp;</th>\n",
       "      <th id=\"T_6fa3c_level0_col0\" class=\"col_heading level0 col0\" >Description</th>\n",
       "      <th id=\"T_6fa3c_level0_col1\" class=\"col_heading level0 col1\" >Value</th>\n",
       "    </tr>\n",
       "  </thead>\n",
       "  <tbody>\n",
       "    <tr>\n",
       "      <th id=\"T_6fa3c_level0_row0\" class=\"row_heading level0 row0\" >0</th>\n",
       "      <td id=\"T_6fa3c_row0_col0\" class=\"data row0 col0\" >Session id</td>\n",
       "      <td id=\"T_6fa3c_row0_col1\" class=\"data row0 col1\" >6554</td>\n",
       "    </tr>\n",
       "    <tr>\n",
       "      <th id=\"T_6fa3c_level0_row1\" class=\"row_heading level0 row1\" >1</th>\n",
       "      <td id=\"T_6fa3c_row1_col0\" class=\"data row1 col0\" >Target</td>\n",
       "      <td id=\"T_6fa3c_row1_col1\" class=\"data row1 col1\" >Churn</td>\n",
       "    </tr>\n",
       "    <tr>\n",
       "      <th id=\"T_6fa3c_level0_row2\" class=\"row_heading level0 row2\" >2</th>\n",
       "      <td id=\"T_6fa3c_row2_col0\" class=\"data row2 col0\" >Target type</td>\n",
       "      <td id=\"T_6fa3c_row2_col1\" class=\"data row2 col1\" >Binary</td>\n",
       "    </tr>\n",
       "    <tr>\n",
       "      <th id=\"T_6fa3c_level0_row3\" class=\"row_heading level0 row3\" >3</th>\n",
       "      <td id=\"T_6fa3c_row3_col0\" class=\"data row3 col0\" >Original data shape</td>\n",
       "      <td id=\"T_6fa3c_row3_col1\" class=\"data row3 col1\" >(7043, 7)</td>\n",
       "    </tr>\n",
       "    <tr>\n",
       "      <th id=\"T_6fa3c_level0_row4\" class=\"row_heading level0 row4\" >4</th>\n",
       "      <td id=\"T_6fa3c_row4_col0\" class=\"data row4 col0\" >Transformed data shape</td>\n",
       "      <td id=\"T_6fa3c_row4_col1\" class=\"data row4 col1\" >(7043, 7)</td>\n",
       "    </tr>\n",
       "    <tr>\n",
       "      <th id=\"T_6fa3c_level0_row5\" class=\"row_heading level0 row5\" >5</th>\n",
       "      <td id=\"T_6fa3c_row5_col0\" class=\"data row5 col0\" >Transformed train set shape</td>\n",
       "      <td id=\"T_6fa3c_row5_col1\" class=\"data row5 col1\" >(4930, 7)</td>\n",
       "    </tr>\n",
       "    <tr>\n",
       "      <th id=\"T_6fa3c_level0_row6\" class=\"row_heading level0 row6\" >6</th>\n",
       "      <td id=\"T_6fa3c_row6_col0\" class=\"data row6 col0\" >Transformed test set shape</td>\n",
       "      <td id=\"T_6fa3c_row6_col1\" class=\"data row6 col1\" >(2113, 7)</td>\n",
       "    </tr>\n",
       "    <tr>\n",
       "      <th id=\"T_6fa3c_level0_row7\" class=\"row_heading level0 row7\" >7</th>\n",
       "      <td id=\"T_6fa3c_row7_col0\" class=\"data row7 col0\" >Numeric features</td>\n",
       "      <td id=\"T_6fa3c_row7_col1\" class=\"data row7 col1\" >6</td>\n",
       "    </tr>\n",
       "    <tr>\n",
       "      <th id=\"T_6fa3c_level0_row8\" class=\"row_heading level0 row8\" >8</th>\n",
       "      <td id=\"T_6fa3c_row8_col0\" class=\"data row8 col0\" >Preprocess</td>\n",
       "      <td id=\"T_6fa3c_row8_col1\" class=\"data row8 col1\" >True</td>\n",
       "    </tr>\n",
       "    <tr>\n",
       "      <th id=\"T_6fa3c_level0_row9\" class=\"row_heading level0 row9\" >9</th>\n",
       "      <td id=\"T_6fa3c_row9_col0\" class=\"data row9 col0\" >Imputation type</td>\n",
       "      <td id=\"T_6fa3c_row9_col1\" class=\"data row9 col1\" >simple</td>\n",
       "    </tr>\n",
       "    <tr>\n",
       "      <th id=\"T_6fa3c_level0_row10\" class=\"row_heading level0 row10\" >10</th>\n",
       "      <td id=\"T_6fa3c_row10_col0\" class=\"data row10 col0\" >Numeric imputation</td>\n",
       "      <td id=\"T_6fa3c_row10_col1\" class=\"data row10 col1\" >mean</td>\n",
       "    </tr>\n",
       "    <tr>\n",
       "      <th id=\"T_6fa3c_level0_row11\" class=\"row_heading level0 row11\" >11</th>\n",
       "      <td id=\"T_6fa3c_row11_col0\" class=\"data row11 col0\" >Categorical imputation</td>\n",
       "      <td id=\"T_6fa3c_row11_col1\" class=\"data row11 col1\" >mode</td>\n",
       "    </tr>\n",
       "    <tr>\n",
       "      <th id=\"T_6fa3c_level0_row12\" class=\"row_heading level0 row12\" >12</th>\n",
       "      <td id=\"T_6fa3c_row12_col0\" class=\"data row12 col0\" >Fold Generator</td>\n",
       "      <td id=\"T_6fa3c_row12_col1\" class=\"data row12 col1\" >StratifiedKFold</td>\n",
       "    </tr>\n",
       "    <tr>\n",
       "      <th id=\"T_6fa3c_level0_row13\" class=\"row_heading level0 row13\" >13</th>\n",
       "      <td id=\"T_6fa3c_row13_col0\" class=\"data row13 col0\" >Fold Number</td>\n",
       "      <td id=\"T_6fa3c_row13_col1\" class=\"data row13 col1\" >10</td>\n",
       "    </tr>\n",
       "    <tr>\n",
       "      <th id=\"T_6fa3c_level0_row14\" class=\"row_heading level0 row14\" >14</th>\n",
       "      <td id=\"T_6fa3c_row14_col0\" class=\"data row14 col0\" >CPU Jobs</td>\n",
       "      <td id=\"T_6fa3c_row14_col1\" class=\"data row14 col1\" >-1</td>\n",
       "    </tr>\n",
       "    <tr>\n",
       "      <th id=\"T_6fa3c_level0_row15\" class=\"row_heading level0 row15\" >15</th>\n",
       "      <td id=\"T_6fa3c_row15_col0\" class=\"data row15 col0\" >Use GPU</td>\n",
       "      <td id=\"T_6fa3c_row15_col1\" class=\"data row15 col1\" >False</td>\n",
       "    </tr>\n",
       "    <tr>\n",
       "      <th id=\"T_6fa3c_level0_row16\" class=\"row_heading level0 row16\" >16</th>\n",
       "      <td id=\"T_6fa3c_row16_col0\" class=\"data row16 col0\" >Log Experiment</td>\n",
       "      <td id=\"T_6fa3c_row16_col1\" class=\"data row16 col1\" >False</td>\n",
       "    </tr>\n",
       "    <tr>\n",
       "      <th id=\"T_6fa3c_level0_row17\" class=\"row_heading level0 row17\" >17</th>\n",
       "      <td id=\"T_6fa3c_row17_col0\" class=\"data row17 col0\" >Experiment Name</td>\n",
       "      <td id=\"T_6fa3c_row17_col1\" class=\"data row17 col1\" >clf-default-name</td>\n",
       "    </tr>\n",
       "    <tr>\n",
       "      <th id=\"T_6fa3c_level0_row18\" class=\"row_heading level0 row18\" >18</th>\n",
       "      <td id=\"T_6fa3c_row18_col0\" class=\"data row18 col0\" >USI</td>\n",
       "      <td id=\"T_6fa3c_row18_col1\" class=\"data row18 col1\" >26d8</td>\n",
       "    </tr>\n",
       "  </tbody>\n",
       "</table>\n"
      ],
      "text/plain": [
       "<pandas.io.formats.style.Styler at 0x1e18e3a51b0>"
      ]
     },
     "metadata": {},
     "output_type": "display_data"
    }
   ],
   "source": [
    "automl1 = setup(df, target='Churn')"
   ]
  },
  {
   "cell_type": "code",
   "execution_count": 22,
   "id": "6337b5ea-2cf1-4594-ae26-107d19e531e4",
   "metadata": {
    "tags": []
   },
   "outputs": [
    {
     "data": {
      "text/html": [
       "<style type=\"text/css\">\n",
       "#T_a9a53_row12_col1 {\n",
       "  background-color: lightgreen;\n",
       "}\n",
       "</style>\n",
       "<table id=\"T_a9a53\">\n",
       "  <thead>\n",
       "    <tr>\n",
       "      <th class=\"blank level0\" >&nbsp;</th>\n",
       "      <th id=\"T_a9a53_level0_col0\" class=\"col_heading level0 col0\" >Description</th>\n",
       "      <th id=\"T_a9a53_level0_col1\" class=\"col_heading level0 col1\" >Value</th>\n",
       "    </tr>\n",
       "  </thead>\n",
       "  <tbody>\n",
       "    <tr>\n",
       "      <th id=\"T_a9a53_level0_row0\" class=\"row_heading level0 row0\" >0</th>\n",
       "      <td id=\"T_a9a53_row0_col0\" class=\"data row0 col0\" >Session id</td>\n",
       "      <td id=\"T_a9a53_row0_col1\" class=\"data row0 col1\" >2596</td>\n",
       "    </tr>\n",
       "    <tr>\n",
       "      <th id=\"T_a9a53_level0_row1\" class=\"row_heading level0 row1\" >1</th>\n",
       "      <td id=\"T_a9a53_row1_col0\" class=\"data row1 col0\" >Target</td>\n",
       "      <td id=\"T_a9a53_row1_col1\" class=\"data row1 col1\" >Churn</td>\n",
       "    </tr>\n",
       "    <tr>\n",
       "      <th id=\"T_a9a53_level0_row2\" class=\"row_heading level0 row2\" >2</th>\n",
       "      <td id=\"T_a9a53_row2_col0\" class=\"data row2 col0\" >Target type</td>\n",
       "      <td id=\"T_a9a53_row2_col1\" class=\"data row2 col1\" >Binary</td>\n",
       "    </tr>\n",
       "    <tr>\n",
       "      <th id=\"T_a9a53_level0_row3\" class=\"row_heading level0 row3\" >3</th>\n",
       "      <td id=\"T_a9a53_row3_col0\" class=\"data row3 col0\" >Target mapping</td>\n",
       "      <td id=\"T_a9a53_row3_col1\" class=\"data row3 col1\" >No: 0, Yes: 1</td>\n",
       "    </tr>\n",
       "    <tr>\n",
       "      <th id=\"T_a9a53_level0_row4\" class=\"row_heading level0 row4\" >4</th>\n",
       "      <td id=\"T_a9a53_row4_col0\" class=\"data row4 col0\" >Original data shape</td>\n",
       "      <td id=\"T_a9a53_row4_col1\" class=\"data row4 col1\" >(7043, 7)</td>\n",
       "    </tr>\n",
       "    <tr>\n",
       "      <th id=\"T_a9a53_level0_row5\" class=\"row_heading level0 row5\" >5</th>\n",
       "      <td id=\"T_a9a53_row5_col0\" class=\"data row5 col0\" >Transformed data shape</td>\n",
       "      <td id=\"T_a9a53_row5_col1\" class=\"data row5 col1\" >(7043, 12)</td>\n",
       "    </tr>\n",
       "    <tr>\n",
       "      <th id=\"T_a9a53_level0_row6\" class=\"row_heading level0 row6\" >6</th>\n",
       "      <td id=\"T_a9a53_row6_col0\" class=\"data row6 col0\" >Transformed train set shape</td>\n",
       "      <td id=\"T_a9a53_row6_col1\" class=\"data row6 col1\" >(4930, 12)</td>\n",
       "    </tr>\n",
       "    <tr>\n",
       "      <th id=\"T_a9a53_level0_row7\" class=\"row_heading level0 row7\" >7</th>\n",
       "      <td id=\"T_a9a53_row7_col0\" class=\"data row7 col0\" >Transformed test set shape</td>\n",
       "      <td id=\"T_a9a53_row7_col1\" class=\"data row7 col1\" >(2113, 12)</td>\n",
       "    </tr>\n",
       "    <tr>\n",
       "      <th id=\"T_a9a53_level0_row8\" class=\"row_heading level0 row8\" >8</th>\n",
       "      <td id=\"T_a9a53_row8_col0\" class=\"data row8 col0\" >Ordinal features</td>\n",
       "      <td id=\"T_a9a53_row8_col1\" class=\"data row8 col1\" >1</td>\n",
       "    </tr>\n",
       "    <tr>\n",
       "      <th id=\"T_a9a53_level0_row9\" class=\"row_heading level0 row9\" >9</th>\n",
       "      <td id=\"T_a9a53_row9_col0\" class=\"data row9 col0\" >Numeric features</td>\n",
       "      <td id=\"T_a9a53_row9_col1\" class=\"data row9 col1\" >3</td>\n",
       "    </tr>\n",
       "    <tr>\n",
       "      <th id=\"T_a9a53_level0_row10\" class=\"row_heading level0 row10\" >10</th>\n",
       "      <td id=\"T_a9a53_row10_col0\" class=\"data row10 col0\" >Categorical features</td>\n",
       "      <td id=\"T_a9a53_row10_col1\" class=\"data row10 col1\" >3</td>\n",
       "    </tr>\n",
       "    <tr>\n",
       "      <th id=\"T_a9a53_level0_row11\" class=\"row_heading level0 row11\" >11</th>\n",
       "      <td id=\"T_a9a53_row11_col0\" class=\"data row11 col0\" >Rows with missing values</td>\n",
       "      <td id=\"T_a9a53_row11_col1\" class=\"data row11 col1\" >0.2%</td>\n",
       "    </tr>\n",
       "    <tr>\n",
       "      <th id=\"T_a9a53_level0_row12\" class=\"row_heading level0 row12\" >12</th>\n",
       "      <td id=\"T_a9a53_row12_col0\" class=\"data row12 col0\" >Preprocess</td>\n",
       "      <td id=\"T_a9a53_row12_col1\" class=\"data row12 col1\" >True</td>\n",
       "    </tr>\n",
       "    <tr>\n",
       "      <th id=\"T_a9a53_level0_row13\" class=\"row_heading level0 row13\" >13</th>\n",
       "      <td id=\"T_a9a53_row13_col0\" class=\"data row13 col0\" >Imputation type</td>\n",
       "      <td id=\"T_a9a53_row13_col1\" class=\"data row13 col1\" >simple</td>\n",
       "    </tr>\n",
       "    <tr>\n",
       "      <th id=\"T_a9a53_level0_row14\" class=\"row_heading level0 row14\" >14</th>\n",
       "      <td id=\"T_a9a53_row14_col0\" class=\"data row14 col0\" >Numeric imputation</td>\n",
       "      <td id=\"T_a9a53_row14_col1\" class=\"data row14 col1\" >mean</td>\n",
       "    </tr>\n",
       "    <tr>\n",
       "      <th id=\"T_a9a53_level0_row15\" class=\"row_heading level0 row15\" >15</th>\n",
       "      <td id=\"T_a9a53_row15_col0\" class=\"data row15 col0\" >Categorical imputation</td>\n",
       "      <td id=\"T_a9a53_row15_col1\" class=\"data row15 col1\" >mode</td>\n",
       "    </tr>\n",
       "    <tr>\n",
       "      <th id=\"T_a9a53_level0_row16\" class=\"row_heading level0 row16\" >16</th>\n",
       "      <td id=\"T_a9a53_row16_col0\" class=\"data row16 col0\" >Maximum one-hot encoding</td>\n",
       "      <td id=\"T_a9a53_row16_col1\" class=\"data row16 col1\" >25</td>\n",
       "    </tr>\n",
       "    <tr>\n",
       "      <th id=\"T_a9a53_level0_row17\" class=\"row_heading level0 row17\" >17</th>\n",
       "      <td id=\"T_a9a53_row17_col0\" class=\"data row17 col0\" >Encoding method</td>\n",
       "      <td id=\"T_a9a53_row17_col1\" class=\"data row17 col1\" >None</td>\n",
       "    </tr>\n",
       "    <tr>\n",
       "      <th id=\"T_a9a53_level0_row18\" class=\"row_heading level0 row18\" >18</th>\n",
       "      <td id=\"T_a9a53_row18_col0\" class=\"data row18 col0\" >Fold Generator</td>\n",
       "      <td id=\"T_a9a53_row18_col1\" class=\"data row18 col1\" >StratifiedKFold</td>\n",
       "    </tr>\n",
       "    <tr>\n",
       "      <th id=\"T_a9a53_level0_row19\" class=\"row_heading level0 row19\" >19</th>\n",
       "      <td id=\"T_a9a53_row19_col0\" class=\"data row19 col0\" >Fold Number</td>\n",
       "      <td id=\"T_a9a53_row19_col1\" class=\"data row19 col1\" >10</td>\n",
       "    </tr>\n",
       "    <tr>\n",
       "      <th id=\"T_a9a53_level0_row20\" class=\"row_heading level0 row20\" >20</th>\n",
       "      <td id=\"T_a9a53_row20_col0\" class=\"data row20 col0\" >CPU Jobs</td>\n",
       "      <td id=\"T_a9a53_row20_col1\" class=\"data row20 col1\" >-1</td>\n",
       "    </tr>\n",
       "    <tr>\n",
       "      <th id=\"T_a9a53_level0_row21\" class=\"row_heading level0 row21\" >21</th>\n",
       "      <td id=\"T_a9a53_row21_col0\" class=\"data row21 col0\" >Use GPU</td>\n",
       "      <td id=\"T_a9a53_row21_col1\" class=\"data row21 col1\" >False</td>\n",
       "    </tr>\n",
       "    <tr>\n",
       "      <th id=\"T_a9a53_level0_row22\" class=\"row_heading level0 row22\" >22</th>\n",
       "      <td id=\"T_a9a53_row22_col0\" class=\"data row22 col0\" >Log Experiment</td>\n",
       "      <td id=\"T_a9a53_row22_col1\" class=\"data row22 col1\" >False</td>\n",
       "    </tr>\n",
       "    <tr>\n",
       "      <th id=\"T_a9a53_level0_row23\" class=\"row_heading level0 row23\" >23</th>\n",
       "      <td id=\"T_a9a53_row23_col0\" class=\"data row23 col0\" >Experiment Name</td>\n",
       "      <td id=\"T_a9a53_row23_col1\" class=\"data row23 col1\" >clf-default-name</td>\n",
       "    </tr>\n",
       "    <tr>\n",
       "      <th id=\"T_a9a53_level0_row24\" class=\"row_heading level0 row24\" >24</th>\n",
       "      <td id=\"T_a9a53_row24_col0\" class=\"data row24 col0\" >USI</td>\n",
       "      <td id=\"T_a9a53_row24_col1\" class=\"data row24 col1\" >3830</td>\n",
       "    </tr>\n",
       "  </tbody>\n",
       "</table>\n"
      ],
      "text/plain": [
       "<pandas.io.formats.style.Styler at 0x1e18b287640>"
      ]
     },
     "metadata": {},
     "output_type": "display_data"
    }
   ],
   "source": [
    "automl = setup(df2, target='Churn')"
   ]
  },
  {
   "cell_type": "code",
   "execution_count": 24,
   "id": "c9765e07-059b-48eb-b5b0-3b2f1c4bdb95",
   "metadata": {
    "tags": []
   },
   "outputs": [
    {
     "data": {
      "text/html": [],
      "text/plain": [
       "<IPython.core.display.HTML object>"
      ]
     },
     "metadata": {},
     "output_type": "display_data"
    },
    {
     "data": {
      "text/html": [
       "<style type=\"text/css\">\n",
       "#T_ae11d th {\n",
       "  text-align: left;\n",
       "}\n",
       "#T_ae11d_row0_col0, #T_ae11d_row0_col2, #T_ae11d_row0_col3, #T_ae11d_row0_col4, #T_ae11d_row0_col5, #T_ae11d_row1_col0, #T_ae11d_row1_col1, #T_ae11d_row1_col2, #T_ae11d_row1_col3, #T_ae11d_row1_col5, #T_ae11d_row1_col6, #T_ae11d_row1_col7, #T_ae11d_row2_col0, #T_ae11d_row2_col1, #T_ae11d_row2_col3, #T_ae11d_row2_col4, #T_ae11d_row2_col5, #T_ae11d_row2_col6, #T_ae11d_row2_col7, #T_ae11d_row3_col0, #T_ae11d_row3_col1, #T_ae11d_row3_col2, #T_ae11d_row3_col3, #T_ae11d_row3_col4, #T_ae11d_row3_col5, #T_ae11d_row3_col6, #T_ae11d_row3_col7, #T_ae11d_row4_col0, #T_ae11d_row4_col1, #T_ae11d_row4_col2, #T_ae11d_row4_col3, #T_ae11d_row4_col4, #T_ae11d_row4_col5, #T_ae11d_row4_col6, #T_ae11d_row4_col7, #T_ae11d_row5_col0, #T_ae11d_row5_col1, #T_ae11d_row5_col2, #T_ae11d_row5_col3, #T_ae11d_row5_col4, #T_ae11d_row5_col5, #T_ae11d_row5_col6, #T_ae11d_row5_col7, #T_ae11d_row6_col0, #T_ae11d_row6_col1, #T_ae11d_row6_col2, #T_ae11d_row6_col3, #T_ae11d_row6_col4, #T_ae11d_row6_col5, #T_ae11d_row6_col6, #T_ae11d_row6_col7, #T_ae11d_row7_col0, #T_ae11d_row7_col1, #T_ae11d_row7_col2, #T_ae11d_row7_col3, #T_ae11d_row7_col4, #T_ae11d_row7_col5, #T_ae11d_row7_col6, #T_ae11d_row7_col7, #T_ae11d_row8_col0, #T_ae11d_row8_col1, #T_ae11d_row8_col2, #T_ae11d_row8_col3, #T_ae11d_row8_col4, #T_ae11d_row8_col5, #T_ae11d_row8_col6, #T_ae11d_row8_col7, #T_ae11d_row9_col0, #T_ae11d_row9_col1, #T_ae11d_row9_col2, #T_ae11d_row9_col3, #T_ae11d_row9_col4, #T_ae11d_row9_col5, #T_ae11d_row9_col6, #T_ae11d_row9_col7, #T_ae11d_row10_col0, #T_ae11d_row10_col1, #T_ae11d_row10_col2, #T_ae11d_row10_col3, #T_ae11d_row10_col4, #T_ae11d_row10_col6, #T_ae11d_row10_col7, #T_ae11d_row11_col0, #T_ae11d_row11_col1, #T_ae11d_row11_col2, #T_ae11d_row11_col3, #T_ae11d_row11_col4, #T_ae11d_row11_col5, #T_ae11d_row11_col6, #T_ae11d_row11_col7, #T_ae11d_row12_col0, #T_ae11d_row12_col1, #T_ae11d_row12_col2, #T_ae11d_row12_col3, #T_ae11d_row12_col4, #T_ae11d_row12_col5, #T_ae11d_row12_col6, #T_ae11d_row12_col7, #T_ae11d_row13_col0, #T_ae11d_row13_col1, #T_ae11d_row13_col2, #T_ae11d_row13_col4, #T_ae11d_row13_col5, #T_ae11d_row13_col6, #T_ae11d_row13_col7 {\n",
       "  text-align: left;\n",
       "}\n",
       "#T_ae11d_row0_col1, #T_ae11d_row0_col6, #T_ae11d_row0_col7, #T_ae11d_row1_col4, #T_ae11d_row2_col2, #T_ae11d_row10_col5, #T_ae11d_row13_col3 {\n",
       "  text-align: left;\n",
       "  background-color: yellow;\n",
       "}\n",
       "#T_ae11d_row0_col8, #T_ae11d_row1_col8, #T_ae11d_row2_col8, #T_ae11d_row3_col8, #T_ae11d_row4_col8, #T_ae11d_row5_col8, #T_ae11d_row6_col8, #T_ae11d_row7_col8, #T_ae11d_row8_col8, #T_ae11d_row9_col8, #T_ae11d_row10_col8, #T_ae11d_row12_col8, #T_ae11d_row13_col8 {\n",
       "  text-align: left;\n",
       "  background-color: lightgrey;\n",
       "}\n",
       "#T_ae11d_row11_col8 {\n",
       "  text-align: left;\n",
       "  background-color: yellow;\n",
       "  background-color: lightgrey;\n",
       "}\n",
       "</style>\n",
       "<table id=\"T_ae11d\">\n",
       "  <thead>\n",
       "    <tr>\n",
       "      <th class=\"blank level0\" >&nbsp;</th>\n",
       "      <th id=\"T_ae11d_level0_col0\" class=\"col_heading level0 col0\" >Model</th>\n",
       "      <th id=\"T_ae11d_level0_col1\" class=\"col_heading level0 col1\" >Accuracy</th>\n",
       "      <th id=\"T_ae11d_level0_col2\" class=\"col_heading level0 col2\" >AUC</th>\n",
       "      <th id=\"T_ae11d_level0_col3\" class=\"col_heading level0 col3\" >Recall</th>\n",
       "      <th id=\"T_ae11d_level0_col4\" class=\"col_heading level0 col4\" >Prec.</th>\n",
       "      <th id=\"T_ae11d_level0_col5\" class=\"col_heading level0 col5\" >F1</th>\n",
       "      <th id=\"T_ae11d_level0_col6\" class=\"col_heading level0 col6\" >Kappa</th>\n",
       "      <th id=\"T_ae11d_level0_col7\" class=\"col_heading level0 col7\" >MCC</th>\n",
       "      <th id=\"T_ae11d_level0_col8\" class=\"col_heading level0 col8\" >TT (Sec)</th>\n",
       "    </tr>\n",
       "  </thead>\n",
       "  <tbody>\n",
       "    <tr>\n",
       "      <th id=\"T_ae11d_level0_row0\" class=\"row_heading level0 row0\" >lr</th>\n",
       "      <td id=\"T_ae11d_row0_col0\" class=\"data row0 col0\" >Logistic Regression</td>\n",
       "      <td id=\"T_ae11d_row0_col1\" class=\"data row0 col1\" >0.7994</td>\n",
       "      <td id=\"T_ae11d_row0_col2\" class=\"data row0 col2\" >0.8380</td>\n",
       "      <td id=\"T_ae11d_row0_col3\" class=\"data row0 col3\" >0.5436</td>\n",
       "      <td id=\"T_ae11d_row0_col4\" class=\"data row0 col4\" >0.6459</td>\n",
       "      <td id=\"T_ae11d_row0_col5\" class=\"data row0 col5\" >0.5898</td>\n",
       "      <td id=\"T_ae11d_row0_col6\" class=\"data row0 col6\" >0.4584</td>\n",
       "      <td id=\"T_ae11d_row0_col7\" class=\"data row0 col7\" >0.4617</td>\n",
       "      <td id=\"T_ae11d_row0_col8\" class=\"data row0 col8\" >0.9870</td>\n",
       "    </tr>\n",
       "    <tr>\n",
       "      <th id=\"T_ae11d_level0_row1\" class=\"row_heading level0 row1\" >ridge</th>\n",
       "      <td id=\"T_ae11d_row1_col0\" class=\"data row1 col0\" >Ridge Classifier</td>\n",
       "      <td id=\"T_ae11d_row1_col1\" class=\"data row1 col1\" >0.7980</td>\n",
       "      <td id=\"T_ae11d_row1_col2\" class=\"data row1 col2\" >0.0000</td>\n",
       "      <td id=\"T_ae11d_row1_col3\" class=\"data row1 col3\" >0.4733</td>\n",
       "      <td id=\"T_ae11d_row1_col4\" class=\"data row1 col4\" >0.6692</td>\n",
       "      <td id=\"T_ae11d_row1_col5\" class=\"data row1 col5\" >0.5540</td>\n",
       "      <td id=\"T_ae11d_row1_col6\" class=\"data row1 col6\" >0.4284</td>\n",
       "      <td id=\"T_ae11d_row1_col7\" class=\"data row1 col7\" >0.4394</td>\n",
       "      <td id=\"T_ae11d_row1_col8\" class=\"data row1 col8\" >0.0700</td>\n",
       "    </tr>\n",
       "    <tr>\n",
       "      <th id=\"T_ae11d_level0_row2\" class=\"row_heading level0 row2\" >gbc</th>\n",
       "      <td id=\"T_ae11d_row2_col0\" class=\"data row2 col0\" >Gradient Boosting Classifier</td>\n",
       "      <td id=\"T_ae11d_row2_col1\" class=\"data row2 col1\" >0.7953</td>\n",
       "      <td id=\"T_ae11d_row2_col2\" class=\"data row2 col2\" >0.8419</td>\n",
       "      <td id=\"T_ae11d_row2_col3\" class=\"data row2 col3\" >0.5008</td>\n",
       "      <td id=\"T_ae11d_row2_col4\" class=\"data row2 col4\" >0.6512</td>\n",
       "      <td id=\"T_ae11d_row2_col5\" class=\"data row2 col5\" >0.5650</td>\n",
       "      <td id=\"T_ae11d_row2_col6\" class=\"data row2 col6\" >0.4342</td>\n",
       "      <td id=\"T_ae11d_row2_col7\" class=\"data row2 col7\" >0.4414</td>\n",
       "      <td id=\"T_ae11d_row2_col8\" class=\"data row2 col8\" >0.1390</td>\n",
       "    </tr>\n",
       "    <tr>\n",
       "      <th id=\"T_ae11d_level0_row3\" class=\"row_heading level0 row3\" >ada</th>\n",
       "      <td id=\"T_ae11d_row3_col0\" class=\"data row3 col0\" >Ada Boost Classifier</td>\n",
       "      <td id=\"T_ae11d_row3_col1\" class=\"data row3 col1\" >0.7941</td>\n",
       "      <td id=\"T_ae11d_row3_col2\" class=\"data row3 col2\" >0.8382</td>\n",
       "      <td id=\"T_ae11d_row3_col3\" class=\"data row3 col3\" >0.5153</td>\n",
       "      <td id=\"T_ae11d_row3_col4\" class=\"data row3 col4\" >0.6393</td>\n",
       "      <td id=\"T_ae11d_row3_col5\" class=\"data row3 col5\" >0.5703</td>\n",
       "      <td id=\"T_ae11d_row3_col6\" class=\"data row3 col6\" >0.4371</td>\n",
       "      <td id=\"T_ae11d_row3_col7\" class=\"data row3 col7\" >0.4417</td>\n",
       "      <td id=\"T_ae11d_row3_col8\" class=\"data row3 col8\" >0.0680</td>\n",
       "    </tr>\n",
       "    <tr>\n",
       "      <th id=\"T_ae11d_level0_row4\" class=\"row_heading level0 row4\" >lightgbm</th>\n",
       "      <td id=\"T_ae11d_row4_col0\" class=\"data row4 col0\" >Light Gradient Boosting Machine</td>\n",
       "      <td id=\"T_ae11d_row4_col1\" class=\"data row4 col1\" >0.7933</td>\n",
       "      <td id=\"T_ae11d_row4_col2\" class=\"data row4 col2\" >0.8317</td>\n",
       "      <td id=\"T_ae11d_row4_col3\" class=\"data row4 col3\" >0.5222</td>\n",
       "      <td id=\"T_ae11d_row4_col4\" class=\"data row4 col4\" >0.6359</td>\n",
       "      <td id=\"T_ae11d_row4_col5\" class=\"data row4 col5\" >0.5726</td>\n",
       "      <td id=\"T_ae11d_row4_col6\" class=\"data row4 col6\" >0.4381</td>\n",
       "      <td id=\"T_ae11d_row4_col7\" class=\"data row4 col7\" >0.4424</td>\n",
       "      <td id=\"T_ae11d_row4_col8\" class=\"data row4 col8\" >0.1030</td>\n",
       "    </tr>\n",
       "    <tr>\n",
       "      <th id=\"T_ae11d_level0_row5\" class=\"row_heading level0 row5\" >lda</th>\n",
       "      <td id=\"T_ae11d_row5_col0\" class=\"data row5 col0\" >Linear Discriminant Analysis</td>\n",
       "      <td id=\"T_ae11d_row5_col1\" class=\"data row5 col1\" >0.7905</td>\n",
       "      <td id=\"T_ae11d_row5_col2\" class=\"data row5 col2\" >0.8247</td>\n",
       "      <td id=\"T_ae11d_row5_col3\" class=\"data row5 col3\" >0.5115</td>\n",
       "      <td id=\"T_ae11d_row5_col4\" class=\"data row5 col4\" >0.6306</td>\n",
       "      <td id=\"T_ae11d_row5_col5\" class=\"data row5 col5\" >0.5644</td>\n",
       "      <td id=\"T_ae11d_row5_col6\" class=\"data row5 col6\" >0.4284</td>\n",
       "      <td id=\"T_ae11d_row5_col7\" class=\"data row5 col7\" >0.4328</td>\n",
       "      <td id=\"T_ae11d_row5_col8\" class=\"data row5 col8\" >0.0170</td>\n",
       "    </tr>\n",
       "    <tr>\n",
       "      <th id=\"T_ae11d_level0_row6\" class=\"row_heading level0 row6\" >rf</th>\n",
       "      <td id=\"T_ae11d_row6_col0\" class=\"data row6 col0\" >Random Forest Classifier</td>\n",
       "      <td id=\"T_ae11d_row6_col1\" class=\"data row6 col1\" >0.7781</td>\n",
       "      <td id=\"T_ae11d_row6_col2\" class=\"data row6 col2\" >0.8117</td>\n",
       "      <td id=\"T_ae11d_row6_col3\" class=\"data row6 col3\" >0.4885</td>\n",
       "      <td id=\"T_ae11d_row6_col4\" class=\"data row6 col4\" >0.6031</td>\n",
       "      <td id=\"T_ae11d_row6_col5\" class=\"data row6 col5\" >0.5388</td>\n",
       "      <td id=\"T_ae11d_row6_col6\" class=\"data row6 col6\" >0.3949</td>\n",
       "      <td id=\"T_ae11d_row6_col7\" class=\"data row6 col7\" >0.3994</td>\n",
       "      <td id=\"T_ae11d_row6_col8\" class=\"data row6 col8\" >0.1700</td>\n",
       "    </tr>\n",
       "    <tr>\n",
       "      <th id=\"T_ae11d_level0_row7\" class=\"row_heading level0 row7\" >et</th>\n",
       "      <td id=\"T_ae11d_row7_col0\" class=\"data row7 col0\" >Extra Trees Classifier</td>\n",
       "      <td id=\"T_ae11d_row7_col1\" class=\"data row7 col1\" >0.7714</td>\n",
       "      <td id=\"T_ae11d_row7_col2\" class=\"data row7 col2\" >0.7906</td>\n",
       "      <td id=\"T_ae11d_row7_col3\" class=\"data row7 col3\" >0.4985</td>\n",
       "      <td id=\"T_ae11d_row7_col4\" class=\"data row7 col4\" >0.5821</td>\n",
       "      <td id=\"T_ae11d_row7_col5\" class=\"data row7 col5\" >0.5362</td>\n",
       "      <td id=\"T_ae11d_row7_col6\" class=\"data row7 col6\" >0.3859</td>\n",
       "      <td id=\"T_ae11d_row7_col7\" class=\"data row7 col7\" >0.3884</td>\n",
       "      <td id=\"T_ae11d_row7_col8\" class=\"data row7 col8\" >0.1330</td>\n",
       "    </tr>\n",
       "    <tr>\n",
       "      <th id=\"T_ae11d_level0_row8\" class=\"row_heading level0 row8\" >svm</th>\n",
       "      <td id=\"T_ae11d_row8_col0\" class=\"data row8 col0\" >SVM - Linear Kernel</td>\n",
       "      <td id=\"T_ae11d_row8_col1\" class=\"data row8 col1\" >0.7708</td>\n",
       "      <td id=\"T_ae11d_row8_col2\" class=\"data row8 col2\" >0.0000</td>\n",
       "      <td id=\"T_ae11d_row8_col3\" class=\"data row8 col3\" >0.4795</td>\n",
       "      <td id=\"T_ae11d_row8_col4\" class=\"data row8 col4\" >0.5946</td>\n",
       "      <td id=\"T_ae11d_row8_col5\" class=\"data row8 col5\" >0.5173</td>\n",
       "      <td id=\"T_ae11d_row8_col6\" class=\"data row8 col6\" >0.3730</td>\n",
       "      <td id=\"T_ae11d_row8_col7\" class=\"data row8 col7\" >0.3843</td>\n",
       "      <td id=\"T_ae11d_row8_col8\" class=\"data row8 col8\" >0.0830</td>\n",
       "    </tr>\n",
       "    <tr>\n",
       "      <th id=\"T_ae11d_level0_row9\" class=\"row_heading level0 row9\" >knn</th>\n",
       "      <td id=\"T_ae11d_row9_col0\" class=\"data row9 col0\" >K Neighbors Classifier</td>\n",
       "      <td id=\"T_ae11d_row9_col1\" class=\"data row9 col1\" >0.7643</td>\n",
       "      <td id=\"T_ae11d_row9_col2\" class=\"data row9 col2\" >0.7488</td>\n",
       "      <td id=\"T_ae11d_row9_col3\" class=\"data row9 col3\" >0.4442</td>\n",
       "      <td id=\"T_ae11d_row9_col4\" class=\"data row9 col4\" >0.5748</td>\n",
       "      <td id=\"T_ae11d_row9_col5\" class=\"data row9 col5\" >0.5001</td>\n",
       "      <td id=\"T_ae11d_row9_col6\" class=\"data row9 col6\" >0.3493</td>\n",
       "      <td id=\"T_ae11d_row9_col7\" class=\"data row9 col7\" >0.3549</td>\n",
       "      <td id=\"T_ae11d_row9_col8\" class=\"data row9 col8\" >0.0320</td>\n",
       "    </tr>\n",
       "    <tr>\n",
       "      <th id=\"T_ae11d_level0_row10\" class=\"row_heading level0 row10\" >qda</th>\n",
       "      <td id=\"T_ae11d_row10_col0\" class=\"data row10 col0\" >Quadratic Discriminant Analysis</td>\n",
       "      <td id=\"T_ae11d_row10_col1\" class=\"data row10 col1\" >0.7515</td>\n",
       "      <td id=\"T_ae11d_row10_col2\" class=\"data row10 col2\" >0.8261</td>\n",
       "      <td id=\"T_ae11d_row10_col3\" class=\"data row10 col3\" >0.7424</td>\n",
       "      <td id=\"T_ae11d_row10_col4\" class=\"data row10 col4\" >0.5235</td>\n",
       "      <td id=\"T_ae11d_row10_col5\" class=\"data row10 col5\" >0.6136</td>\n",
       "      <td id=\"T_ae11d_row10_col6\" class=\"data row10 col6\" >0.4387</td>\n",
       "      <td id=\"T_ae11d_row10_col7\" class=\"data row10 col7\" >0.4535</td>\n",
       "      <td id=\"T_ae11d_row10_col8\" class=\"data row10 col8\" >0.0160</td>\n",
       "    </tr>\n",
       "    <tr>\n",
       "      <th id=\"T_ae11d_level0_row11\" class=\"row_heading level0 row11\" >dummy</th>\n",
       "      <td id=\"T_ae11d_row11_col0\" class=\"data row11 col0\" >Dummy Classifier</td>\n",
       "      <td id=\"T_ae11d_row11_col1\" class=\"data row11 col1\" >0.7347</td>\n",
       "      <td id=\"T_ae11d_row11_col2\" class=\"data row11 col2\" >0.5000</td>\n",
       "      <td id=\"T_ae11d_row11_col3\" class=\"data row11 col3\" >0.0000</td>\n",
       "      <td id=\"T_ae11d_row11_col4\" class=\"data row11 col4\" >0.0000</td>\n",
       "      <td id=\"T_ae11d_row11_col5\" class=\"data row11 col5\" >0.0000</td>\n",
       "      <td id=\"T_ae11d_row11_col6\" class=\"data row11 col6\" >0.0000</td>\n",
       "      <td id=\"T_ae11d_row11_col7\" class=\"data row11 col7\" >0.0000</td>\n",
       "      <td id=\"T_ae11d_row11_col8\" class=\"data row11 col8\" >0.0130</td>\n",
       "    </tr>\n",
       "    <tr>\n",
       "      <th id=\"T_ae11d_level0_row12\" class=\"row_heading level0 row12\" >dt</th>\n",
       "      <td id=\"T_ae11d_row12_col0\" class=\"data row12 col0\" >Decision Tree Classifier</td>\n",
       "      <td id=\"T_ae11d_row12_col1\" class=\"data row12 col1\" >0.7341</td>\n",
       "      <td id=\"T_ae11d_row12_col2\" class=\"data row12 col2\" >0.6681</td>\n",
       "      <td id=\"T_ae11d_row12_col3\" class=\"data row12 col3\" >0.5122</td>\n",
       "      <td id=\"T_ae11d_row12_col4\" class=\"data row12 col4\" >0.4989</td>\n",
       "      <td id=\"T_ae11d_row12_col5\" class=\"data row12 col5\" >0.5051</td>\n",
       "      <td id=\"T_ae11d_row12_col6\" class=\"data row12 col6\" >0.3234</td>\n",
       "      <td id=\"T_ae11d_row12_col7\" class=\"data row12 col7\" >0.3237</td>\n",
       "      <td id=\"T_ae11d_row12_col8\" class=\"data row12 col8\" >0.0210</td>\n",
       "    </tr>\n",
       "    <tr>\n",
       "      <th id=\"T_ae11d_level0_row13\" class=\"row_heading level0 row13\" >nb</th>\n",
       "      <td id=\"T_ae11d_row13_col0\" class=\"data row13 col0\" >Naive Bayes</td>\n",
       "      <td id=\"T_ae11d_row13_col1\" class=\"data row13 col1\" >0.7195</td>\n",
       "      <td id=\"T_ae11d_row13_col2\" class=\"data row13 col2\" >0.8093</td>\n",
       "      <td id=\"T_ae11d_row13_col3\" class=\"data row13 col3\" >0.7508</td>\n",
       "      <td id=\"T_ae11d_row13_col4\" class=\"data row13 col4\" >0.4824</td>\n",
       "      <td id=\"T_ae11d_row13_col5\" class=\"data row13 col5\" >0.5870</td>\n",
       "      <td id=\"T_ae11d_row13_col6\" class=\"data row13 col6\" >0.3898</td>\n",
       "      <td id=\"T_ae11d_row13_col7\" class=\"data row13 col7\" >0.4119</td>\n",
       "      <td id=\"T_ae11d_row13_col8\" class=\"data row13 col8\" >0.0190</td>\n",
       "    </tr>\n",
       "  </tbody>\n",
       "</table>\n"
      ],
      "text/plain": [
       "<pandas.io.formats.style.Styler at 0x1e18d0dc820>"
      ]
     },
     "metadata": {},
     "output_type": "display_data"
    },
    {
     "data": {
      "text/html": [],
      "text/plain": [
       "<IPython.core.display.HTML object>"
      ]
     },
     "metadata": {},
     "output_type": "display_data"
    }
   ],
   "source": [
    "best_model1 = automl1.compare_models()"
   ]
  },
  {
   "cell_type": "code",
   "execution_count": 26,
   "id": "755b6d1a-55ad-4842-8618-3148cf29a3ca",
   "metadata": {
    "tags": []
   },
   "outputs": [
    {
     "data": {
      "text/html": [],
      "text/plain": [
       "<IPython.core.display.HTML object>"
      ]
     },
     "metadata": {},
     "output_type": "display_data"
    },
    {
     "data": {
      "text/html": [
       "<style type=\"text/css\">\n",
       "#T_289c3 th {\n",
       "  text-align: left;\n",
       "}\n",
       "#T_289c3_row0_col0, #T_289c3_row0_col4, #T_289c3_row0_col6, #T_289c3_row1_col0, #T_289c3_row1_col1, #T_289c3_row1_col2, #T_289c3_row1_col3, #T_289c3_row1_col4, #T_289c3_row1_col5, #T_289c3_row1_col6, #T_289c3_row1_col7, #T_289c3_row2_col0, #T_289c3_row2_col1, #T_289c3_row2_col2, #T_289c3_row2_col3, #T_289c3_row2_col4, #T_289c3_row2_col5, #T_289c3_row2_col7, #T_289c3_row3_col0, #T_289c3_row3_col1, #T_289c3_row3_col2, #T_289c3_row3_col3, #T_289c3_row3_col4, #T_289c3_row3_col5, #T_289c3_row3_col6, #T_289c3_row3_col7, #T_289c3_row4_col0, #T_289c3_row4_col1, #T_289c3_row4_col2, #T_289c3_row4_col3, #T_289c3_row4_col4, #T_289c3_row4_col5, #T_289c3_row4_col6, #T_289c3_row4_col7, #T_289c3_row5_col0, #T_289c3_row5_col1, #T_289c3_row5_col2, #T_289c3_row5_col3, #T_289c3_row5_col4, #T_289c3_row5_col5, #T_289c3_row5_col6, #T_289c3_row5_col7, #T_289c3_row6_col0, #T_289c3_row6_col1, #T_289c3_row6_col2, #T_289c3_row6_col3, #T_289c3_row6_col4, #T_289c3_row6_col5, #T_289c3_row6_col6, #T_289c3_row6_col7, #T_289c3_row7_col0, #T_289c3_row7_col1, #T_289c3_row7_col2, #T_289c3_row7_col3, #T_289c3_row7_col4, #T_289c3_row7_col5, #T_289c3_row7_col6, #T_289c3_row7_col7, #T_289c3_row8_col0, #T_289c3_row8_col1, #T_289c3_row8_col2, #T_289c3_row8_col3, #T_289c3_row8_col4, #T_289c3_row8_col5, #T_289c3_row8_col6, #T_289c3_row8_col7, #T_289c3_row9_col0, #T_289c3_row9_col1, #T_289c3_row9_col2, #T_289c3_row9_col3, #T_289c3_row9_col4, #T_289c3_row9_col5, #T_289c3_row9_col6, #T_289c3_row9_col7, #T_289c3_row10_col0, #T_289c3_row10_col1, #T_289c3_row10_col2, #T_289c3_row10_col3, #T_289c3_row10_col4, #T_289c3_row10_col5, #T_289c3_row10_col6, #T_289c3_row10_col7, #T_289c3_row11_col0, #T_289c3_row11_col1, #T_289c3_row11_col2, #T_289c3_row11_col3, #T_289c3_row11_col4, #T_289c3_row11_col5, #T_289c3_row11_col6, #T_289c3_row11_col7, #T_289c3_row12_col0, #T_289c3_row12_col1, #T_289c3_row12_col2, #T_289c3_row12_col3, #T_289c3_row12_col4, #T_289c3_row12_col5, #T_289c3_row12_col6, #T_289c3_row12_col7, #T_289c3_row13_col0, #T_289c3_row13_col1, #T_289c3_row13_col2, #T_289c3_row13_col3, #T_289c3_row13_col5, #T_289c3_row13_col6, #T_289c3_row13_col7 {\n",
       "  text-align: left;\n",
       "}\n",
       "#T_289c3_row0_col1, #T_289c3_row0_col2, #T_289c3_row0_col3, #T_289c3_row0_col5, #T_289c3_row0_col7, #T_289c3_row2_col6, #T_289c3_row13_col4 {\n",
       "  text-align: left;\n",
       "  background-color: yellow;\n",
       "}\n",
       "#T_289c3_row0_col8, #T_289c3_row1_col8, #T_289c3_row2_col8, #T_289c3_row3_col8, #T_289c3_row4_col8, #T_289c3_row5_col8, #T_289c3_row6_col8, #T_289c3_row7_col8, #T_289c3_row8_col8, #T_289c3_row10_col8, #T_289c3_row11_col8, #T_289c3_row12_col8, #T_289c3_row13_col8 {\n",
       "  text-align: left;\n",
       "  background-color: lightgrey;\n",
       "}\n",
       "#T_289c3_row9_col8 {\n",
       "  text-align: left;\n",
       "  background-color: yellow;\n",
       "  background-color: lightgrey;\n",
       "}\n",
       "</style>\n",
       "<table id=\"T_289c3\">\n",
       "  <thead>\n",
       "    <tr>\n",
       "      <th class=\"blank level0\" >&nbsp;</th>\n",
       "      <th id=\"T_289c3_level0_col0\" class=\"col_heading level0 col0\" >Model</th>\n",
       "      <th id=\"T_289c3_level0_col1\" class=\"col_heading level0 col1\" >Accuracy</th>\n",
       "      <th id=\"T_289c3_level0_col2\" class=\"col_heading level0 col2\" >AUC</th>\n",
       "      <th id=\"T_289c3_level0_col3\" class=\"col_heading level0 col3\" >Recall</th>\n",
       "      <th id=\"T_289c3_level0_col4\" class=\"col_heading level0 col4\" >Prec.</th>\n",
       "      <th id=\"T_289c3_level0_col5\" class=\"col_heading level0 col5\" >F1</th>\n",
       "      <th id=\"T_289c3_level0_col6\" class=\"col_heading level0 col6\" >Kappa</th>\n",
       "      <th id=\"T_289c3_level0_col7\" class=\"col_heading level0 col7\" >MCC</th>\n",
       "      <th id=\"T_289c3_level0_col8\" class=\"col_heading level0 col8\" >TT (Sec)</th>\n",
       "    </tr>\n",
       "  </thead>\n",
       "  <tbody>\n",
       "    <tr>\n",
       "      <th id=\"T_289c3_level0_row0\" class=\"row_heading level0 row0\" >gbc</th>\n",
       "      <td id=\"T_289c3_row0_col0\" class=\"data row0 col0\" >Gradient Boosting Classifier</td>\n",
       "      <td id=\"T_289c3_row0_col1\" class=\"data row0 col1\" >0.7945</td>\n",
       "      <td id=\"T_289c3_row0_col2\" class=\"data row0 col2\" >0.8398</td>\n",
       "      <td id=\"T_289c3_row0_col3\" class=\"data row0 col3\" >0.7945</td>\n",
       "      <td id=\"T_289c3_row0_col4\" class=\"data row0 col4\" >0.7832</td>\n",
       "      <td id=\"T_289c3_row0_col5\" class=\"data row0 col5\" >0.7851</td>\n",
       "      <td id=\"T_289c3_row0_col6\" class=\"data row0 col6\" >0.4306</td>\n",
       "      <td id=\"T_289c3_row0_col7\" class=\"data row0 col7\" >0.4371</td>\n",
       "      <td id=\"T_289c3_row0_col8\" class=\"data row0 col8\" >0.1880</td>\n",
       "    </tr>\n",
       "    <tr>\n",
       "      <th id=\"T_289c3_level0_row1\" class=\"row_heading level0 row1\" >ada</th>\n",
       "      <td id=\"T_289c3_row1_col0\" class=\"data row1 col0\" >Ada Boost Classifier</td>\n",
       "      <td id=\"T_289c3_row1_col1\" class=\"data row1 col1\" >0.7917</td>\n",
       "      <td id=\"T_289c3_row1_col2\" class=\"data row1 col2\" >0.8384</td>\n",
       "      <td id=\"T_289c3_row1_col3\" class=\"data row1 col3\" >0.7917</td>\n",
       "      <td id=\"T_289c3_row1_col4\" class=\"data row1 col4\" >0.7802</td>\n",
       "      <td id=\"T_289c3_row1_col5\" class=\"data row1 col5\" >0.7825</td>\n",
       "      <td id=\"T_289c3_row1_col6\" class=\"data row1 col6\" >0.4244</td>\n",
       "      <td id=\"T_289c3_row1_col7\" class=\"data row1 col7\" >0.4302</td>\n",
       "      <td id=\"T_289c3_row1_col8\" class=\"data row1 col8\" >0.1150</td>\n",
       "    </tr>\n",
       "    <tr>\n",
       "      <th id=\"T_289c3_level0_row2\" class=\"row_heading level0 row2\" >lr</th>\n",
       "      <td id=\"T_289c3_row2_col0\" class=\"data row2 col0\" >Logistic Regression</td>\n",
       "      <td id=\"T_289c3_row2_col1\" class=\"data row2 col1\" >0.7907</td>\n",
       "      <td id=\"T_289c3_row2_col2\" class=\"data row2 col2\" >0.8335</td>\n",
       "      <td id=\"T_289c3_row2_col3\" class=\"data row2 col3\" >0.7907</td>\n",
       "      <td id=\"T_289c3_row2_col4\" class=\"data row2 col4\" >0.7814</td>\n",
       "      <td id=\"T_289c3_row2_col5\" class=\"data row2 col5\" >0.7838</td>\n",
       "      <td id=\"T_289c3_row2_col6\" class=\"data row2 col6\" >0.4315</td>\n",
       "      <td id=\"T_289c3_row2_col7\" class=\"data row2 col7\" >0.4353</td>\n",
       "      <td id=\"T_289c3_row2_col8\" class=\"data row2 col8\" >0.1030</td>\n",
       "    </tr>\n",
       "    <tr>\n",
       "      <th id=\"T_289c3_level0_row3\" class=\"row_heading level0 row3\" >ridge</th>\n",
       "      <td id=\"T_289c3_row3_col0\" class=\"data row3 col0\" >Ridge Classifier</td>\n",
       "      <td id=\"T_289c3_row3_col1\" class=\"data row3 col1\" >0.7884</td>\n",
       "      <td id=\"T_289c3_row3_col2\" class=\"data row3 col2\" >0.0000</td>\n",
       "      <td id=\"T_289c3_row3_col3\" class=\"data row3 col3\" >0.7884</td>\n",
       "      <td id=\"T_289c3_row3_col4\" class=\"data row3 col4\" >0.7743</td>\n",
       "      <td id=\"T_289c3_row3_col5\" class=\"data row3 col5\" >0.7756</td>\n",
       "      <td id=\"T_289c3_row3_col6\" class=\"data row3 col6\" >0.4018</td>\n",
       "      <td id=\"T_289c3_row3_col7\" class=\"data row3 col7\" >0.4112</td>\n",
       "      <td id=\"T_289c3_row3_col8\" class=\"data row3 col8\" >0.0550</td>\n",
       "    </tr>\n",
       "    <tr>\n",
       "      <th id=\"T_289c3_level0_row4\" class=\"row_heading level0 row4\" >lda</th>\n",
       "      <td id=\"T_289c3_row4_col0\" class=\"data row4 col0\" >Linear Discriminant Analysis</td>\n",
       "      <td id=\"T_289c3_row4_col1\" class=\"data row4 col1\" >0.7872</td>\n",
       "      <td id=\"T_289c3_row4_col2\" class=\"data row4 col2\" >0.8250</td>\n",
       "      <td id=\"T_289c3_row4_col3\" class=\"data row4 col3\" >0.7872</td>\n",
       "      <td id=\"T_289c3_row4_col4\" class=\"data row4 col4\" >0.7773</td>\n",
       "      <td id=\"T_289c3_row4_col5\" class=\"data row4 col5\" >0.7801</td>\n",
       "      <td id=\"T_289c3_row4_col6\" class=\"data row4 col6\" >0.4216</td>\n",
       "      <td id=\"T_289c3_row4_col7\" class=\"data row4 col7\" >0.4251</td>\n",
       "      <td id=\"T_289c3_row4_col8\" class=\"data row4 col8\" >0.0590</td>\n",
       "    </tr>\n",
       "    <tr>\n",
       "      <th id=\"T_289c3_level0_row5\" class=\"row_heading level0 row5\" >lightgbm</th>\n",
       "      <td id=\"T_289c3_row5_col0\" class=\"data row5 col0\" >Light Gradient Boosting Machine</td>\n",
       "      <td id=\"T_289c3_row5_col1\" class=\"data row5 col1\" >0.7866</td>\n",
       "      <td id=\"T_289c3_row5_col2\" class=\"data row5 col2\" >0.8275</td>\n",
       "      <td id=\"T_289c3_row5_col3\" class=\"data row5 col3\" >0.7866</td>\n",
       "      <td id=\"T_289c3_row5_col4\" class=\"data row5 col4\" >0.7770</td>\n",
       "      <td id=\"T_289c3_row5_col5\" class=\"data row5 col5\" >0.7797</td>\n",
       "      <td id=\"T_289c3_row5_col6\" class=\"data row5 col6\" >0.4209</td>\n",
       "      <td id=\"T_289c3_row5_col7\" class=\"data row5 col7\" >0.4245</td>\n",
       "      <td id=\"T_289c3_row5_col8\" class=\"data row5 col8\" >0.1710</td>\n",
       "    </tr>\n",
       "    <tr>\n",
       "      <th id=\"T_289c3_level0_row6\" class=\"row_heading level0 row6\" >rf</th>\n",
       "      <td id=\"T_289c3_row6_col0\" class=\"data row6 col0\" >Random Forest Classifier</td>\n",
       "      <td id=\"T_289c3_row6_col1\" class=\"data row6 col1\" >0.7684</td>\n",
       "      <td id=\"T_289c3_row6_col2\" class=\"data row6 col2\" >0.8036</td>\n",
       "      <td id=\"T_289c3_row6_col3\" class=\"data row6 col3\" >0.7684</td>\n",
       "      <td id=\"T_289c3_row6_col4\" class=\"data row6 col4\" >0.7599</td>\n",
       "      <td id=\"T_289c3_row6_col5\" class=\"data row6 col5\" >0.7627</td>\n",
       "      <td id=\"T_289c3_row6_col6\" class=\"data row6 col6\" >0.3795</td>\n",
       "      <td id=\"T_289c3_row6_col7\" class=\"data row6 col7\" >0.3818</td>\n",
       "      <td id=\"T_289c3_row6_col8\" class=\"data row6 col8\" >0.2280</td>\n",
       "    </tr>\n",
       "    <tr>\n",
       "      <th id=\"T_289c3_level0_row7\" class=\"row_heading level0 row7\" >knn</th>\n",
       "      <td id=\"T_289c3_row7_col0\" class=\"data row7 col0\" >K Neighbors Classifier</td>\n",
       "      <td id=\"T_289c3_row7_col1\" class=\"data row7 col1\" >0.7669</td>\n",
       "      <td id=\"T_289c3_row7_col2\" class=\"data row7 col2\" >0.7436</td>\n",
       "      <td id=\"T_289c3_row7_col3\" class=\"data row7 col3\" >0.7669</td>\n",
       "      <td id=\"T_289c3_row7_col4\" class=\"data row7 col4\" >0.7516</td>\n",
       "      <td id=\"T_289c3_row7_col5\" class=\"data row7 col5\" >0.7551</td>\n",
       "      <td id=\"T_289c3_row7_col6\" class=\"data row7 col6\" >0.3497</td>\n",
       "      <td id=\"T_289c3_row7_col7\" class=\"data row7 col7\" >0.3561</td>\n",
       "      <td id=\"T_289c3_row7_col8\" class=\"data row7 col8\" >0.0750</td>\n",
       "    </tr>\n",
       "    <tr>\n",
       "      <th id=\"T_289c3_level0_row8\" class=\"row_heading level0 row8\" >et</th>\n",
       "      <td id=\"T_289c3_row8_col0\" class=\"data row8 col0\" >Extra Trees Classifier</td>\n",
       "      <td id=\"T_289c3_row8_col1\" class=\"data row8 col1\" >0.7602</td>\n",
       "      <td id=\"T_289c3_row8_col2\" class=\"data row8 col2\" >0.7811</td>\n",
       "      <td id=\"T_289c3_row8_col3\" class=\"data row8 col3\" >0.7602</td>\n",
       "      <td id=\"T_289c3_row8_col4\" class=\"data row8 col4\" >0.7528</td>\n",
       "      <td id=\"T_289c3_row8_col5\" class=\"data row8 col5\" >0.7556</td>\n",
       "      <td id=\"T_289c3_row8_col6\" class=\"data row8 col6\" >0.3629</td>\n",
       "      <td id=\"T_289c3_row8_col7\" class=\"data row8 col7\" >0.3644</td>\n",
       "      <td id=\"T_289c3_row8_col8\" class=\"data row8 col8\" >0.1870</td>\n",
       "    </tr>\n",
       "    <tr>\n",
       "      <th id=\"T_289c3_level0_row9\" class=\"row_heading level0 row9\" >dt</th>\n",
       "      <td id=\"T_289c3_row9_col0\" class=\"data row9 col0\" >Decision Tree Classifier</td>\n",
       "      <td id=\"T_289c3_row9_col1\" class=\"data row9 col1\" >0.7369</td>\n",
       "      <td id=\"T_289c3_row9_col2\" class=\"data row9 col2\" >0.6642</td>\n",
       "      <td id=\"T_289c3_row9_col3\" class=\"data row9 col3\" >0.7369</td>\n",
       "      <td id=\"T_289c3_row9_col4\" class=\"data row9 col4\" >0.7378</td>\n",
       "      <td id=\"T_289c3_row9_col5\" class=\"data row9 col5\" >0.7368</td>\n",
       "      <td id=\"T_289c3_row9_col6\" class=\"data row9 col6\" >0.3258</td>\n",
       "      <td id=\"T_289c3_row9_col7\" class=\"data row9 col7\" >0.3265</td>\n",
       "      <td id=\"T_289c3_row9_col8\" class=\"data row9 col8\" >0.0520</td>\n",
       "    </tr>\n",
       "    <tr>\n",
       "      <th id=\"T_289c3_level0_row10\" class=\"row_heading level0 row10\" >dummy</th>\n",
       "      <td id=\"T_289c3_row10_col0\" class=\"data row10 col0\" >Dummy Classifier</td>\n",
       "      <td id=\"T_289c3_row10_col1\" class=\"data row10 col1\" >0.7347</td>\n",
       "      <td id=\"T_289c3_row10_col2\" class=\"data row10 col2\" >0.5000</td>\n",
       "      <td id=\"T_289c3_row10_col3\" class=\"data row10 col3\" >0.7347</td>\n",
       "      <td id=\"T_289c3_row10_col4\" class=\"data row10 col4\" >0.5398</td>\n",
       "      <td id=\"T_289c3_row10_col5\" class=\"data row10 col5\" >0.6223</td>\n",
       "      <td id=\"T_289c3_row10_col6\" class=\"data row10 col6\" >0.0000</td>\n",
       "      <td id=\"T_289c3_row10_col7\" class=\"data row10 col7\" >0.0000</td>\n",
       "      <td id=\"T_289c3_row10_col8\" class=\"data row10 col8\" >0.0570</td>\n",
       "    </tr>\n",
       "    <tr>\n",
       "      <th id=\"T_289c3_level0_row11\" class=\"row_heading level0 row11\" >svm</th>\n",
       "      <td id=\"T_289c3_row11_col0\" class=\"data row11 col0\" >SVM - Linear Kernel</td>\n",
       "      <td id=\"T_289c3_row11_col1\" class=\"data row11 col1\" >0.7051</td>\n",
       "      <td id=\"T_289c3_row11_col2\" class=\"data row11 col2\" >0.0000</td>\n",
       "      <td id=\"T_289c3_row11_col3\" class=\"data row11 col3\" >0.7051</td>\n",
       "      <td id=\"T_289c3_row11_col4\" class=\"data row11 col4\" >0.7669</td>\n",
       "      <td id=\"T_289c3_row11_col5\" class=\"data row11 col5\" >0.6976</td>\n",
       "      <td id=\"T_289c3_row11_col6\" class=\"data row11 col6\" >0.3172</td>\n",
       "      <td id=\"T_289c3_row11_col7\" class=\"data row11 col7\" >0.3533</td>\n",
       "      <td id=\"T_289c3_row11_col8\" class=\"data row11 col8\" >0.0580</td>\n",
       "    </tr>\n",
       "    <tr>\n",
       "      <th id=\"T_289c3_level0_row12\" class=\"row_heading level0 row12\" >qda</th>\n",
       "      <td id=\"T_289c3_row12_col0\" class=\"data row12 col0\" >Quadratic Discriminant Analysis</td>\n",
       "      <td id=\"T_289c3_row12_col1\" class=\"data row12 col1\" >0.6970</td>\n",
       "      <td id=\"T_289c3_row12_col2\" class=\"data row12 col2\" >0.7277</td>\n",
       "      <td id=\"T_289c3_row12_col3\" class=\"data row12 col3\" >0.6970</td>\n",
       "      <td id=\"T_289c3_row12_col4\" class=\"data row12 col4\" >0.7251</td>\n",
       "      <td id=\"T_289c3_row12_col5\" class=\"data row12 col5\" >0.6999</td>\n",
       "      <td id=\"T_289c3_row12_col6\" class=\"data row12 col6\" >0.2661</td>\n",
       "      <td id=\"T_289c3_row12_col7\" class=\"data row12 col7\" >0.2800</td>\n",
       "      <td id=\"T_289c3_row12_col8\" class=\"data row12 col8\" >0.0620</td>\n",
       "    </tr>\n",
       "    <tr>\n",
       "      <th id=\"T_289c3_level0_row13\" class=\"row_heading level0 row13\" >nb</th>\n",
       "      <td id=\"T_289c3_row13_col0\" class=\"data row13 col0\" >Naive Bayes</td>\n",
       "      <td id=\"T_289c3_row13_col1\" class=\"data row13 col1\" >0.6854</td>\n",
       "      <td id=\"T_289c3_row13_col2\" class=\"data row13 col2\" >0.8095</td>\n",
       "      <td id=\"T_289c3_row13_col3\" class=\"data row13 col3\" >0.6854</td>\n",
       "      <td id=\"T_289c3_row13_col4\" class=\"data row13 col4\" >0.7944</td>\n",
       "      <td id=\"T_289c3_row13_col5\" class=\"data row13 col5\" >0.7036</td>\n",
       "      <td id=\"T_289c3_row13_col6\" class=\"data row13 col6\" >0.3700</td>\n",
       "      <td id=\"T_289c3_row13_col7\" class=\"data row13 col7\" >0.4181</td>\n",
       "      <td id=\"T_289c3_row13_col8\" class=\"data row13 col8\" >0.0600</td>\n",
       "    </tr>\n",
       "  </tbody>\n",
       "</table>\n"
      ],
      "text/plain": [
       "<pandas.io.formats.style.Styler at 0x1e18e0e4850>"
      ]
     },
     "metadata": {},
     "output_type": "display_data"
    },
    {
     "data": {
      "text/html": [],
      "text/plain": [
       "<IPython.core.display.HTML object>"
      ]
     },
     "metadata": {},
     "output_type": "display_data"
    }
   ],
   "source": [
    "best_model = automl.compare_models()"
   ]
  },
  {
   "cell_type": "markdown",
   "id": "f81c4b57-0795-4ae7-9c29-d06288b724a9",
   "metadata": {},
   "source": [
    "First thing of note:  the clean set best model is the Logistical Regression, while the raw is the Gradient Boosting Classifer. \n",
    "I'll need to read up some more on what exactly the Gradient Boosting Classifier is, since it's new.  Between the two 'best' model charts\n",
    "the top 3 are the same with variances in the accuracy score.  I did notice that with the raw set, the accuracy is much lower than on the clean set \n",
    "the further down in the list we get.  "
   ]
  },
  {
   "cell_type": "code",
   "execution_count": 29,
   "id": "96d04e63-9285-4930-a3c1-b710776c0bb0",
   "metadata": {
    "tags": []
   },
   "outputs": [
    {
     "data": {
      "text/plain": [
       "(1, 7)"
      ]
     },
     "execution_count": 29,
     "metadata": {},
     "output_type": "execute_result"
    }
   ],
   "source": [
    "df2.iloc[-2:-1].shape"
   ]
  },
  {
   "cell_type": "code",
   "execution_count": 31,
   "id": "07478437-4ab3-40f9-95b3-f444c7232737",
   "metadata": {
    "tags": []
   },
   "outputs": [
    {
     "data": {
      "text/plain": [
       "(1, 7)"
      ]
     },
     "execution_count": 31,
     "metadata": {},
     "output_type": "execute_result"
    }
   ],
   "source": [
    "df.iloc[-2:-1].shape"
   ]
  },
  {
   "cell_type": "code",
   "execution_count": 33,
   "id": "5cc0fbfb-79b0-468a-b86b-0fe639ec227d",
   "metadata": {
    "tags": []
   },
   "outputs": [
    {
     "data": {
      "text/html": [
       "<style type=\"text/css\">\n",
       "</style>\n",
       "<table id=\"T_1d13e\">\n",
       "  <thead>\n",
       "    <tr>\n",
       "      <th class=\"blank level0\" >&nbsp;</th>\n",
       "      <th id=\"T_1d13e_level0_col0\" class=\"col_heading level0 col0\" >Model</th>\n",
       "      <th id=\"T_1d13e_level0_col1\" class=\"col_heading level0 col1\" >Accuracy</th>\n",
       "      <th id=\"T_1d13e_level0_col2\" class=\"col_heading level0 col2\" >AUC</th>\n",
       "      <th id=\"T_1d13e_level0_col3\" class=\"col_heading level0 col3\" >Recall</th>\n",
       "      <th id=\"T_1d13e_level0_col4\" class=\"col_heading level0 col4\" >Prec.</th>\n",
       "      <th id=\"T_1d13e_level0_col5\" class=\"col_heading level0 col5\" >F1</th>\n",
       "      <th id=\"T_1d13e_level0_col6\" class=\"col_heading level0 col6\" >Kappa</th>\n",
       "      <th id=\"T_1d13e_level0_col7\" class=\"col_heading level0 col7\" >MCC</th>\n",
       "    </tr>\n",
       "  </thead>\n",
       "  <tbody>\n",
       "    <tr>\n",
       "      <th id=\"T_1d13e_level0_row0\" class=\"row_heading level0 row0\" >0</th>\n",
       "      <td id=\"T_1d13e_row0_col0\" class=\"data row0 col0\" >Gradient Boosting Classifier</td>\n",
       "      <td id=\"T_1d13e_row0_col1\" class=\"data row0 col1\" >1.0000</td>\n",
       "      <td id=\"T_1d13e_row0_col2\" class=\"data row0 col2\" >0</td>\n",
       "      <td id=\"T_1d13e_row0_col3\" class=\"data row0 col3\" >1.0000</td>\n",
       "      <td id=\"T_1d13e_row0_col4\" class=\"data row0 col4\" >1.0000</td>\n",
       "      <td id=\"T_1d13e_row0_col5\" class=\"data row0 col5\" >1.0000</td>\n",
       "      <td id=\"T_1d13e_row0_col6\" class=\"data row0 col6\" >nan</td>\n",
       "      <td id=\"T_1d13e_row0_col7\" class=\"data row0 col7\" >0.0000</td>\n",
       "    </tr>\n",
       "  </tbody>\n",
       "</table>\n"
      ],
      "text/plain": [
       "<pandas.io.formats.style.Styler at 0x1e18e0e5f90>"
      ]
     },
     "metadata": {},
     "output_type": "display_data"
    },
    {
     "data": {
      "text/html": [
       "<div>\n",
       "<style scoped>\n",
       "    .dataframe tbody tr th:only-of-type {\n",
       "        vertical-align: middle;\n",
       "    }\n",
       "\n",
       "    .dataframe tbody tr th {\n",
       "        vertical-align: top;\n",
       "    }\n",
       "\n",
       "    .dataframe thead th {\n",
       "        text-align: right;\n",
       "    }\n",
       "</style>\n",
       "<table border=\"1\" class=\"dataframe\">\n",
       "  <thead>\n",
       "    <tr style=\"text-align: right;\">\n",
       "      <th></th>\n",
       "      <th>tenure</th>\n",
       "      <th>PhoneService</th>\n",
       "      <th>Contract</th>\n",
       "      <th>PaymentMethod</th>\n",
       "      <th>MonthlyCharges</th>\n",
       "      <th>TotalCharges</th>\n",
       "      <th>Churn</th>\n",
       "      <th>prediction_label</th>\n",
       "      <th>prediction_score</th>\n",
       "    </tr>\n",
       "    <tr>\n",
       "      <th>customerID</th>\n",
       "      <th></th>\n",
       "      <th></th>\n",
       "      <th></th>\n",
       "      <th></th>\n",
       "      <th></th>\n",
       "      <th></th>\n",
       "      <th></th>\n",
       "      <th></th>\n",
       "      <th></th>\n",
       "    </tr>\n",
       "  </thead>\n",
       "  <tbody>\n",
       "    <tr>\n",
       "      <th>8361-LTMKD</th>\n",
       "      <td>4</td>\n",
       "      <td>Yes</td>\n",
       "      <td>Month-to-month</td>\n",
       "      <td>Mailed check</td>\n",
       "      <td>74.400002</td>\n",
       "      <td>306.600006</td>\n",
       "      <td>Yes</td>\n",
       "      <td>Yes</td>\n",
       "      <td>0.5851</td>\n",
       "    </tr>\n",
       "  </tbody>\n",
       "</table>\n",
       "</div>"
      ],
      "text/plain": [
       "            tenure PhoneService        Contract PaymentMethod  MonthlyCharges  \\\n",
       "customerID                                                                      \n",
       "8361-LTMKD       4          Yes  Month-to-month  Mailed check       74.400002   \n",
       "\n",
       "            TotalCharges Churn prediction_label  prediction_score  \n",
       "customerID                                                         \n",
       "8361-LTMKD    306.600006   Yes              Yes            0.5851  "
      ]
     },
     "execution_count": 33,
     "metadata": {},
     "output_type": "execute_result"
    }
   ],
   "source": [
    "predict_model(best_model, df2.iloc[-2:-1])"
   ]
  },
  {
   "cell_type": "markdown",
   "id": "90f8373b-6784-44b3-ae23-b83f862dfcd0",
   "metadata": {
    "tags": []
   },
   "source": [
    "predict_model(best_model1, df.iloc[-2:-1])\n",
    "At this point in my 'experiment' to see how the prediction models act with scrubbed vs raw, the predict_model failed.  "
   ]
  },
  {
   "cell_type": "code",
   "execution_count": 36,
   "id": "856fafa9-3688-43df-b256-94587378c8df",
   "metadata": {
    "tags": []
   },
   "outputs": [
    {
     "data": {
      "text/html": [
       "<style>#sk-container-id-1 {color: black;background-color: white;}#sk-container-id-1 pre{padding: 0;}#sk-container-id-1 div.sk-toggleable {background-color: white;}#sk-container-id-1 label.sk-toggleable__label {cursor: pointer;display: block;width: 100%;margin-bottom: 0;padding: 0.3em;box-sizing: border-box;text-align: center;}#sk-container-id-1 label.sk-toggleable__label-arrow:before {content: \"▸\";float: left;margin-right: 0.25em;color: #696969;}#sk-container-id-1 label.sk-toggleable__label-arrow:hover:before {color: black;}#sk-container-id-1 div.sk-estimator:hover label.sk-toggleable__label-arrow:before {color: black;}#sk-container-id-1 div.sk-toggleable__content {max-height: 0;max-width: 0;overflow: hidden;text-align: left;background-color: #f0f8ff;}#sk-container-id-1 div.sk-toggleable__content pre {margin: 0.2em;color: black;border-radius: 0.25em;background-color: #f0f8ff;}#sk-container-id-1 input.sk-toggleable__control:checked~div.sk-toggleable__content {max-height: 200px;max-width: 100%;overflow: auto;}#sk-container-id-1 input.sk-toggleable__control:checked~label.sk-toggleable__label-arrow:before {content: \"▾\";}#sk-container-id-1 div.sk-estimator input.sk-toggleable__control:checked~label.sk-toggleable__label {background-color: #d4ebff;}#sk-container-id-1 div.sk-label input.sk-toggleable__control:checked~label.sk-toggleable__label {background-color: #d4ebff;}#sk-container-id-1 input.sk-hidden--visually {border: 0;clip: rect(1px 1px 1px 1px);clip: rect(1px, 1px, 1px, 1px);height: 1px;margin: -1px;overflow: hidden;padding: 0;position: absolute;width: 1px;}#sk-container-id-1 div.sk-estimator {font-family: monospace;background-color: #f0f8ff;border: 1px dotted black;border-radius: 0.25em;box-sizing: border-box;margin-bottom: 0.5em;}#sk-container-id-1 div.sk-estimator:hover {background-color: #d4ebff;}#sk-container-id-1 div.sk-parallel-item::after {content: \"\";width: 100%;border-bottom: 1px solid gray;flex-grow: 1;}#sk-container-id-1 div.sk-label:hover label.sk-toggleable__label {background-color: #d4ebff;}#sk-container-id-1 div.sk-serial::before {content: \"\";position: absolute;border-left: 1px solid gray;box-sizing: border-box;top: 0;bottom: 0;left: 50%;z-index: 0;}#sk-container-id-1 div.sk-serial {display: flex;flex-direction: column;align-items: center;background-color: white;padding-right: 0.2em;padding-left: 0.2em;position: relative;}#sk-container-id-1 div.sk-item {position: relative;z-index: 1;}#sk-container-id-1 div.sk-parallel {display: flex;align-items: stretch;justify-content: center;background-color: white;position: relative;}#sk-container-id-1 div.sk-item::before, #sk-container-id-1 div.sk-parallel-item::before {content: \"\";position: absolute;border-left: 1px solid gray;box-sizing: border-box;top: 0;bottom: 0;left: 50%;z-index: -1;}#sk-container-id-1 div.sk-parallel-item {display: flex;flex-direction: column;z-index: 1;position: relative;background-color: white;}#sk-container-id-1 div.sk-parallel-item:first-child::after {align-self: flex-end;width: 50%;}#sk-container-id-1 div.sk-parallel-item:last-child::after {align-self: flex-start;width: 50%;}#sk-container-id-1 div.sk-parallel-item:only-child::after {width: 0;}#sk-container-id-1 div.sk-dashed-wrapped {border: 1px dashed gray;margin: 0 0.4em 0.5em 0.4em;box-sizing: border-box;padding-bottom: 0.4em;background-color: white;}#sk-container-id-1 div.sk-label label {font-family: monospace;font-weight: bold;display: inline-block;line-height: 1.2em;}#sk-container-id-1 div.sk-label-container {text-align: center;}#sk-container-id-1 div.sk-container {/* jupyter's `normalize.less` sets `[hidden] { display: none; }` but bootstrap.min.css set `[hidden] { display: none !important; }` so we also need the `!important` here to be able to override the default hidden behavior on the sphinx rendered scikit-learn.org. See: https://github.com/scikit-learn/scikit-learn/issues/21755 */display: inline-block !important;position: relative;}#sk-container-id-1 div.sk-text-repr-fallback {display: none;}</style><div id=\"sk-container-id-1\" class=\"sk-top-container\"><div class=\"sk-text-repr-fallback\"><pre>GradientBoostingClassifier(ccp_alpha=0.0, criterion=&#x27;friedman_mse&#x27;, init=None,\n",
       "                           learning_rate=0.1, loss=&#x27;log_loss&#x27;, max_depth=3,\n",
       "                           max_features=None, max_leaf_nodes=None,\n",
       "                           min_impurity_decrease=0.0, min_samples_leaf=1,\n",
       "                           min_samples_split=2, min_weight_fraction_leaf=0.0,\n",
       "                           n_estimators=100, n_iter_no_change=None,\n",
       "                           random_state=2596, subsample=1.0, tol=0.0001,\n",
       "                           validation_fraction=0.1, verbose=0,\n",
       "                           warm_start=False)</pre><b>In a Jupyter environment, please rerun this cell to show the HTML representation or trust the notebook. <br />On GitHub, the HTML representation is unable to render, please try loading this page with nbviewer.org.</b></div><div class=\"sk-container\" hidden><div class=\"sk-item\"><div class=\"sk-estimator sk-toggleable\"><input class=\"sk-toggleable__control sk-hidden--visually\" id=\"sk-estimator-id-1\" type=\"checkbox\" checked><label for=\"sk-estimator-id-1\" class=\"sk-toggleable__label sk-toggleable__label-arrow\">GradientBoostingClassifier</label><div class=\"sk-toggleable__content\"><pre>GradientBoostingClassifier(ccp_alpha=0.0, criterion=&#x27;friedman_mse&#x27;, init=None,\n",
       "                           learning_rate=0.1, loss=&#x27;log_loss&#x27;, max_depth=3,\n",
       "                           max_features=None, max_leaf_nodes=None,\n",
       "                           min_impurity_decrease=0.0, min_samples_leaf=1,\n",
       "                           min_samples_split=2, min_weight_fraction_leaf=0.0,\n",
       "                           n_estimators=100, n_iter_no_change=None,\n",
       "                           random_state=2596, subsample=1.0, tol=0.0001,\n",
       "                           validation_fraction=0.1, verbose=0,\n",
       "                           warm_start=False)</pre></div></div></div></div></div>"
      ],
      "text/plain": [
       "GradientBoostingClassifier(ccp_alpha=0.0, criterion='friedman_mse', init=None,\n",
       "                           learning_rate=0.1, loss='log_loss', max_depth=3,\n",
       "                           max_features=None, max_leaf_nodes=None,\n",
       "                           min_impurity_decrease=0.0, min_samples_leaf=1,\n",
       "                           min_samples_split=2, min_weight_fraction_leaf=0.0,\n",
       "                           n_estimators=100, n_iter_no_change=None,\n",
       "                           random_state=2596, subsample=1.0, tol=0.0001,\n",
       "                           validation_fraction=0.1, verbose=0,\n",
       "                           warm_start=False)"
      ]
     },
     "execution_count": 36,
     "metadata": {},
     "output_type": "execute_result"
    }
   ],
   "source": [
    "best_model"
   ]
  },
  {
   "cell_type": "code",
   "execution_count": 38,
   "id": "af88ca20-8f73-4ab8-8656-c4a6216fdaa3",
   "metadata": {
    "tags": []
   },
   "outputs": [
    {
     "data": {
      "application/vnd.jupyter.widget-view+json": {
       "model_id": "148cab5f85784d78b1b8ac366d1cd43e",
       "version_major": 2,
       "version_minor": 0
      },
      "text/plain": [
       "interactive(children=(ToggleButtons(description='Plot Type:', icons=('',), options=(('Pipeline Plot', 'pipelin…"
      ]
     },
     "metadata": {},
     "output_type": "display_data"
    }
   ],
   "source": [
    "automl.evaluate_model(best_model)"
   ]
  },
  {
   "cell_type": "markdown",
   "id": "321b6615-eeb7-44d3-bea3-19e21e156024",
   "metadata": {},
   "source": [
    "I'm guessing that this gives me the types of plots I have access to with the GBC"
   ]
  },
  {
   "cell_type": "code",
   "execution_count": 41,
   "id": "ed46771a-6837-48e4-8a6b-8bf92ba1166f",
   "metadata": {
    "tags": []
   },
   "outputs": [
    {
     "data": {
      "text/html": [],
      "text/plain": [
       "<IPython.core.display.HTML object>"
      ]
     },
     "metadata": {},
     "output_type": "display_data"
    },
    {
     "data": {
      "image/png": "[encoded data removed]",
      "text/plain": [
       "<Figure size 800x550 with 1 Axes>"
      ]
     },
     "metadata": {},
     "output_type": "display_data"
    }
   ],
   "source": [
    "automl.plot_model(best_model)"
   ]
  },
  {
   "cell_type": "markdown",
   "id": "ad0b33d6-1f09-4512-a37f-795f326d7997",
   "metadata": {},
   "source": [
    "I need to get better at reading the charts like this"
   ]
  },
  {
   "cell_type": "code",
   "execution_count": 44,
   "id": "49e18fcf-bfd8-41a9-b19e-7d34223f094b",
   "metadata": {
    "tags": []
   },
   "outputs": [
    {
     "data": {
      "text/html": [],
      "text/plain": [
       "<IPython.core.display.HTML object>"
      ]
     },
     "metadata": {},
     "output_type": "display_data"
    },
    {
     "data": {
      "image/png": "[encoded data removed]",
      "text/plain": [
       "<Figure size 800x550 with 1 Axes>"
      ]
     },
     "metadata": {},
     "output_type": "display_data"
    }
   ],
   "source": [
    "automl.plot_model(best_model, plot = 'confusion_matrix')"
   ]
  },
  {
   "cell_type": "markdown",
   "id": "c8332a7f-ff88-4836-b20d-2d5fdc0589d7",
   "metadata": {},
   "source": [
    " we have our True Negatives at 1416\n",
    "    Our Tue Positives at 259 (lower right)\n",
    "    Our False negative is 302 (we predicted 0 and it was a 1)\n",
    "    Our False Postive is 136 If I use the recall of (TPR = TP / (TP + FN): tpr=1416/(1416+302) or .82 (or 708/859). So the true positive rate is 82%.\n"
   ]
  },
  {
   "cell_type": "code",
   "execution_count": 50,
   "id": "bd7dfb9e-8602-4e08-bf7e-708a60fe084a",
   "metadata": {
    "tags": []
   },
   "outputs": [
    {
     "data": {
      "text/html": [
       "<style type=\"text/css\">\n",
       "</style>\n",
       "<table id=\"T_d04a6\">\n",
       "  <thead>\n",
       "    <tr>\n",
       "      <th class=\"blank level0\" >&nbsp;</th>\n",
       "      <th id=\"T_d04a6_level0_col0\" class=\"col_heading level0 col0\" >Model</th>\n",
       "      <th id=\"T_d04a6_level0_col1\" class=\"col_heading level0 col1\" >Accuracy</th>\n",
       "      <th id=\"T_d04a6_level0_col2\" class=\"col_heading level0 col2\" >AUC</th>\n",
       "      <th id=\"T_d04a6_level0_col3\" class=\"col_heading level0 col3\" >Recall</th>\n",
       "      <th id=\"T_d04a6_level0_col4\" class=\"col_heading level0 col4\" >Prec.</th>\n",
       "      <th id=\"T_d04a6_level0_col5\" class=\"col_heading level0 col5\" >F1</th>\n",
       "      <th id=\"T_d04a6_level0_col6\" class=\"col_heading level0 col6\" >Kappa</th>\n",
       "      <th id=\"T_d04a6_level0_col7\" class=\"col_heading level0 col7\" >MCC</th>\n",
       "    </tr>\n",
       "  </thead>\n",
       "  <tbody>\n",
       "    <tr>\n",
       "      <th id=\"T_d04a6_level0_row0\" class=\"row_heading level0 row0\" >0</th>\n",
       "      <td id=\"T_d04a6_row0_col0\" class=\"data row0 col0\" >Gradient Boosting Classifier</td>\n",
       "      <td id=\"T_d04a6_row0_col1\" class=\"data row0 col1\" >1.0000</td>\n",
       "      <td id=\"T_d04a6_row0_col2\" class=\"data row0 col2\" >0</td>\n",
       "      <td id=\"T_d04a6_row0_col3\" class=\"data row0 col3\" >1.0000</td>\n",
       "      <td id=\"T_d04a6_row0_col4\" class=\"data row0 col4\" >1.0000</td>\n",
       "      <td id=\"T_d04a6_row0_col5\" class=\"data row0 col5\" >1.0000</td>\n",
       "      <td id=\"T_d04a6_row0_col6\" class=\"data row0 col6\" >nan</td>\n",
       "      <td id=\"T_d04a6_row0_col7\" class=\"data row0 col7\" >0.0000</td>\n",
       "    </tr>\n",
       "  </tbody>\n",
       "</table>\n"
      ],
      "text/plain": [
       "<pandas.io.formats.style.Styler at 0x1e18e649000>"
      ]
     },
     "metadata": {},
     "output_type": "display_data"
    },
    {
     "data": {
      "text/html": [
       "<div>\n",
       "<style scoped>\n",
       "    .dataframe tbody tr th:only-of-type {\n",
       "        vertical-align: middle;\n",
       "    }\n",
       "\n",
       "    .dataframe tbody tr th {\n",
       "        vertical-align: top;\n",
       "    }\n",
       "\n",
       "    .dataframe thead th {\n",
       "        text-align: right;\n",
       "    }\n",
       "</style>\n",
       "<table border=\"1\" class=\"dataframe\">\n",
       "  <thead>\n",
       "    <tr style=\"text-align: right;\">\n",
       "      <th></th>\n",
       "      <th>tenure</th>\n",
       "      <th>PhoneService</th>\n",
       "      <th>Contract</th>\n",
       "      <th>PaymentMethod</th>\n",
       "      <th>MonthlyCharges</th>\n",
       "      <th>TotalCharges</th>\n",
       "      <th>Churn</th>\n",
       "      <th>prediction_label</th>\n",
       "      <th>prediction_score</th>\n",
       "    </tr>\n",
       "    <tr>\n",
       "      <th>customerID</th>\n",
       "      <th></th>\n",
       "      <th></th>\n",
       "      <th></th>\n",
       "      <th></th>\n",
       "      <th></th>\n",
       "      <th></th>\n",
       "      <th></th>\n",
       "      <th></th>\n",
       "      <th></th>\n",
       "    </tr>\n",
       "  </thead>\n",
       "  <tbody>\n",
       "    <tr>\n",
       "      <th>8361-LTMKD</th>\n",
       "      <td>4</td>\n",
       "      <td>Yes</td>\n",
       "      <td>Month-to-month</td>\n",
       "      <td>Mailed check</td>\n",
       "      <td>74.400002</td>\n",
       "      <td>306.600006</td>\n",
       "      <td>Yes</td>\n",
       "      <td>Yes</td>\n",
       "      <td>0.5851</td>\n",
       "    </tr>\n",
       "  </tbody>\n",
       "</table>\n",
       "</div>"
      ],
      "text/plain": [
       "            tenure PhoneService        Contract PaymentMethod  MonthlyCharges  \\\n",
       "customerID                                                                      \n",
       "8361-LTMKD       4          Yes  Month-to-month  Mailed check       74.400002   \n",
       "\n",
       "            TotalCharges Churn prediction_label  prediction_score  \n",
       "customerID                                                         \n",
       "8361-LTMKD    306.600006   Yes              Yes            0.5851  "
      ]
     },
     "execution_count": 50,
     "metadata": {},
     "output_type": "execute_result"
    }
   ],
   "source": [
    "automl.predict_model(best_model, df2.iloc[-2:-1])"
   ]
  },
  {
   "cell_type": "code",
   "execution_count": 52,
   "id": "722217af-4015-4ea0-9ed4-6a4ae8b7d4e2",
   "metadata": {
    "tags": []
   },
   "outputs": [
    {
     "data": {
      "text/html": [
       "<style type=\"text/css\">\n",
       "</style>\n",
       "<table id=\"T_c78e8\">\n",
       "  <thead>\n",
       "    <tr>\n",
       "      <th class=\"blank level0\" >&nbsp;</th>\n",
       "      <th id=\"T_c78e8_level0_col0\" class=\"col_heading level0 col0\" >Model</th>\n",
       "      <th id=\"T_c78e8_level0_col1\" class=\"col_heading level0 col1\" >Accuracy</th>\n",
       "      <th id=\"T_c78e8_level0_col2\" class=\"col_heading level0 col2\" >AUC</th>\n",
       "      <th id=\"T_c78e8_level0_col3\" class=\"col_heading level0 col3\" >Recall</th>\n",
       "      <th id=\"T_c78e8_level0_col4\" class=\"col_heading level0 col4\" >Prec.</th>\n",
       "      <th id=\"T_c78e8_level0_col5\" class=\"col_heading level0 col5\" >F1</th>\n",
       "      <th id=\"T_c78e8_level0_col6\" class=\"col_heading level0 col6\" >Kappa</th>\n",
       "      <th id=\"T_c78e8_level0_col7\" class=\"col_heading level0 col7\" >MCC</th>\n",
       "    </tr>\n",
       "  </thead>\n",
       "  <tbody>\n",
       "    <tr>\n",
       "      <th id=\"T_c78e8_level0_row0\" class=\"row_heading level0 row0\" >0</th>\n",
       "      <td id=\"T_c78e8_row0_col0\" class=\"data row0 col0\" >Gradient Boosting Classifier</td>\n",
       "      <td id=\"T_c78e8_row0_col1\" class=\"data row0 col1\" >0.8119</td>\n",
       "      <td id=\"T_c78e8_row0_col2\" class=\"data row0 col2\" >0.8646</td>\n",
       "      <td id=\"T_c78e8_row0_col3\" class=\"data row0 col3\" >0.8119</td>\n",
       "      <td id=\"T_c78e8_row0_col4\" class=\"data row0 col4\" >0.8020</td>\n",
       "      <td id=\"T_c78e8_row0_col5\" class=\"data row0 col5\" >0.8020</td>\n",
       "      <td id=\"T_c78e8_row0_col6\" class=\"data row0 col6\" >0.4737</td>\n",
       "      <td id=\"T_c78e8_row0_col7\" class=\"data row0 col7\" >0.4828</td>\n",
       "    </tr>\n",
       "  </tbody>\n",
       "</table>\n"
      ],
      "text/plain": [
       "<pandas.io.formats.style.Styler at 0x1e18e28a350>"
      ]
     },
     "metadata": {},
     "output_type": "display_data"
    }
   ],
   "source": [
    "predictions = automl.predict_model(best_model, data=df2)"
   ]
  },
  {
   "cell_type": "code",
   "execution_count": 54,
   "id": "01e0d1ec-3f36-4d77-8c79-6248f27a8dad",
   "metadata": {
    "tags": []
   },
   "outputs": [
    {
     "data": {
      "text/html": [
       "<div>\n",
       "<style scoped>\n",
       "    .dataframe tbody tr th:only-of-type {\n",
       "        vertical-align: middle;\n",
       "    }\n",
       "\n",
       "    .dataframe tbody tr th {\n",
       "        vertical-align: top;\n",
       "    }\n",
       "\n",
       "    .dataframe thead th {\n",
       "        text-align: right;\n",
       "    }\n",
       "</style>\n",
       "<table border=\"1\" class=\"dataframe\">\n",
       "  <thead>\n",
       "    <tr style=\"text-align: right;\">\n",
       "      <th></th>\n",
       "      <th>tenure</th>\n",
       "      <th>PhoneService</th>\n",
       "      <th>Contract</th>\n",
       "      <th>PaymentMethod</th>\n",
       "      <th>MonthlyCharges</th>\n",
       "      <th>TotalCharges</th>\n",
       "      <th>Churn</th>\n",
       "      <th>prediction_label</th>\n",
       "      <th>prediction_score</th>\n",
       "    </tr>\n",
       "    <tr>\n",
       "      <th>customerID</th>\n",
       "      <th></th>\n",
       "      <th></th>\n",
       "      <th></th>\n",
       "      <th></th>\n",
       "      <th></th>\n",
       "      <th></th>\n",
       "      <th></th>\n",
       "      <th></th>\n",
       "      <th></th>\n",
       "    </tr>\n",
       "  </thead>\n",
       "  <tbody>\n",
       "    <tr>\n",
       "      <th>7590-VHVEG</th>\n",
       "      <td>1</td>\n",
       "      <td>No</td>\n",
       "      <td>Month-to-month</td>\n",
       "      <td>Electronic check</td>\n",
       "      <td>29.850000</td>\n",
       "      <td>29.850000</td>\n",
       "      <td>No</td>\n",
       "      <td>Yes</td>\n",
       "      <td>0.7016</td>\n",
       "    </tr>\n",
       "    <tr>\n",
       "      <th>5575-GNVDE</th>\n",
       "      <td>34</td>\n",
       "      <td>Yes</td>\n",
       "      <td>One year</td>\n",
       "      <td>Mailed check</td>\n",
       "      <td>56.950001</td>\n",
       "      <td>1889.500000</td>\n",
       "      <td>No</td>\n",
       "      <td>No</td>\n",
       "      <td>0.9577</td>\n",
       "    </tr>\n",
       "    <tr>\n",
       "      <th>3668-QPYBK</th>\n",
       "      <td>2</td>\n",
       "      <td>Yes</td>\n",
       "      <td>Month-to-month</td>\n",
       "      <td>Mailed check</td>\n",
       "      <td>53.849998</td>\n",
       "      <td>108.150002</td>\n",
       "      <td>Yes</td>\n",
       "      <td>No</td>\n",
       "      <td>0.6155</td>\n",
       "    </tr>\n",
       "    <tr>\n",
       "      <th>7795-CFOCW</th>\n",
       "      <td>45</td>\n",
       "      <td>No</td>\n",
       "      <td>One year</td>\n",
       "      <td>Bank transfer (automatic)</td>\n",
       "      <td>42.299999</td>\n",
       "      <td>1840.750000</td>\n",
       "      <td>No</td>\n",
       "      <td>No</td>\n",
       "      <td>0.9491</td>\n",
       "    </tr>\n",
       "    <tr>\n",
       "      <th>9237-HQITU</th>\n",
       "      <td>2</td>\n",
       "      <td>Yes</td>\n",
       "      <td>Month-to-month</td>\n",
       "      <td>Electronic check</td>\n",
       "      <td>70.699997</td>\n",
       "      <td>151.649994</td>\n",
       "      <td>Yes</td>\n",
       "      <td>Yes</td>\n",
       "      <td>0.6496</td>\n",
       "    </tr>\n",
       "  </tbody>\n",
       "</table>\n",
       "</div>"
      ],
      "text/plain": [
       "            tenure PhoneService        Contract              PaymentMethod  \\\n",
       "customerID                                                                   \n",
       "7590-VHVEG       1           No  Month-to-month           Electronic check   \n",
       "5575-GNVDE      34          Yes        One year               Mailed check   \n",
       "3668-QPYBK       2          Yes  Month-to-month               Mailed check   \n",
       "7795-CFOCW      45           No        One year  Bank transfer (automatic)   \n",
       "9237-HQITU       2          Yes  Month-to-month           Electronic check   \n",
       "\n",
       "            MonthlyCharges  TotalCharges Churn prediction_label  \\\n",
       "customerID                                                        \n",
       "7590-VHVEG       29.850000     29.850000    No              Yes   \n",
       "5575-GNVDE       56.950001   1889.500000    No               No   \n",
       "3668-QPYBK       53.849998    108.150002   Yes               No   \n",
       "7795-CFOCW       42.299999   1840.750000    No               No   \n",
       "9237-HQITU       70.699997    151.649994   Yes              Yes   \n",
       "\n",
       "            prediction_score  \n",
       "customerID                    \n",
       "7590-VHVEG            0.7016  \n",
       "5575-GNVDE            0.9577  \n",
       "3668-QPYBK            0.6155  \n",
       "7795-CFOCW            0.9491  \n",
       "9237-HQITU            0.6496  "
      ]
     },
     "execution_count": 54,
     "metadata": {},
     "output_type": "execute_result"
    }
   ],
   "source": [
    "predictions.head()"
   ]
  },
  {
   "cell_type": "code",
   "execution_count": 56,
   "id": "9393073f-d3ce-4b1d-84d1-f1a502e89c70",
   "metadata": {
    "tags": []
   },
   "outputs": [
    {
     "name": "stdout",
     "output_type": "stream",
     "text": [
      "Transformation Pipeline and Model Successfully Saved\n"
     ]
    },
    {
     "data": {
      "text/plain": [
       "(Pipeline(memory=Memory(location=None),\n",
       "          steps=[('label_encoding',\n",
       "                  TransformerWrapperWithInverse(exclude=None, include=None,\n",
       "                                                transformer=LabelEncoder())),\n",
       "                 ('numerical_imputer',\n",
       "                  TransformerWrapper(exclude=None,\n",
       "                                     include=['tenure', 'MonthlyCharges',\n",
       "                                              'TotalCharges'],\n",
       "                                     transformer=SimpleImputer(add_indicator=False,\n",
       "                                                               copy=True,\n",
       "                                                               fill_value=None,\n",
       "                                                               keep_empty_features=False,...\n",
       "                                             criterion='friedman_mse', init=None,\n",
       "                                             learning_rate=0.1, loss='log_loss',\n",
       "                                             max_depth=3, max_features=None,\n",
       "                                             max_leaf_nodes=None,\n",
       "                                             min_impurity_decrease=0.0,\n",
       "                                             min_samples_leaf=1,\n",
       "                                             min_samples_split=2,\n",
       "                                             min_weight_fraction_leaf=0.0,\n",
       "                                             n_estimators=100,\n",
       "                                             n_iter_no_change=None,\n",
       "                                             random_state=2596, subsample=1.0,\n",
       "                                             tol=0.0001, validation_fraction=0.1,\n",
       "                                             verbose=0, warm_start=False))],\n",
       "          verbose=False),\n",
       " 'pycaret_model_js.pkl')"
      ]
     },
     "execution_count": 56,
     "metadata": {},
     "output_type": "execute_result"
    }
   ],
   "source": [
    "automl.save_model(best_model, 'pycaret_model_js')"
   ]
  },
  {
   "cell_type": "code",
   "execution_count": 58,
   "id": "d83f493d-9211-4282-9c1b-3afd488b4ef0",
   "metadata": {
    "tags": []
   },
   "outputs": [],
   "source": [
    "new_pycaret = ClassificationExperiment()"
   ]
  },
  {
   "cell_type": "code",
   "execution_count": 60,
   "id": "be57bcd1-aab5-4598-8544-5fcc8be957ea",
   "metadata": {
    "tags": []
   },
   "outputs": [
    {
     "name": "stdout",
     "output_type": "stream",
     "text": [
      "Transformation Pipeline and Model Successfully Loaded\n"
     ]
    }
   ],
   "source": [
    "new_pycaret = ClassificationExperiment()\n",
    "loaded_model = new_pycaret.load_model('pycaret_model_js')"
   ]
  },
  {
   "cell_type": "code",
   "execution_count": 62,
   "id": "1de58296-f0dd-4446-9e9d-d47ac590c237",
   "metadata": {
    "tags": []
   },
   "outputs": [
    {
     "data": {
      "text/html": [
       "<div>\n",
       "<style scoped>\n",
       "    .dataframe tbody tr th:only-of-type {\n",
       "        vertical-align: middle;\n",
       "    }\n",
       "\n",
       "    .dataframe tbody tr th {\n",
       "        vertical-align: top;\n",
       "    }\n",
       "\n",
       "    .dataframe thead th {\n",
       "        text-align: right;\n",
       "    }\n",
       "</style>\n",
       "<table border=\"1\" class=\"dataframe\">\n",
       "  <thead>\n",
       "    <tr style=\"text-align: right;\">\n",
       "      <th></th>\n",
       "      <th>tenure</th>\n",
       "      <th>PhoneService</th>\n",
       "      <th>Contract</th>\n",
       "      <th>PaymentMethod</th>\n",
       "      <th>MonthlyCharges</th>\n",
       "      <th>TotalCharges</th>\n",
       "      <th>Churn</th>\n",
       "      <th>prediction_label</th>\n",
       "      <th>prediction_score</th>\n",
       "    </tr>\n",
       "    <tr>\n",
       "      <th>customerID</th>\n",
       "      <th></th>\n",
       "      <th></th>\n",
       "      <th></th>\n",
       "      <th></th>\n",
       "      <th></th>\n",
       "      <th></th>\n",
       "      <th></th>\n",
       "      <th></th>\n",
       "      <th></th>\n",
       "    </tr>\n",
       "  </thead>\n",
       "  <tbody>\n",
       "    <tr>\n",
       "      <th>8361-LTMKD</th>\n",
       "      <td>4</td>\n",
       "      <td>Yes</td>\n",
       "      <td>Month-to-month</td>\n",
       "      <td>Mailed check</td>\n",
       "      <td>74.400002</td>\n",
       "      <td>306.600006</td>\n",
       "      <td>Yes</td>\n",
       "      <td>Yes</td>\n",
       "      <td>0.5851</td>\n",
       "    </tr>\n",
       "  </tbody>\n",
       "</table>\n",
       "</div>"
      ],
      "text/plain": [
       "            tenure PhoneService        Contract PaymentMethod  MonthlyCharges  \\\n",
       "customerID                                                                      \n",
       "8361-LTMKD       4          Yes  Month-to-month  Mailed check       74.400002   \n",
       "\n",
       "            TotalCharges Churn prediction_label  prediction_score  \n",
       "customerID                                                         \n",
       "8361-LTMKD    306.600006   Yes              Yes            0.5851  "
      ]
     },
     "execution_count": 62,
     "metadata": {},
     "output_type": "execute_result"
    }
   ],
   "source": [
    "new_pycaret.predict_model(loaded_model, df2.iloc[-2:-1])"
   ]
  },
  {
   "cell_type": "code",
   "execution_count": 64,
   "id": "e88fd18c-984e-4c86-81d7-11d77cd7ec55",
   "metadata": {
    "tags": []
   },
   "outputs": [
    {
     "data": {
      "text/html": [
       "<style>pre { line-height: 125%; }\n",
       "td.linenos .normal { color: inherit; background-color: transparent; padding-left: 5px; padding-right: 5px; }\n",
       "span.linenos { color: inherit; background-color: transparent; padding-left: 5px; padding-right: 5px; }\n",
       "td.linenos .special { color: #000000; background-color: #ffffc0; padding-left: 5px; padding-right: 5px; }\n",
       "span.linenos.special { color: #000000; background-color: #ffffc0; padding-left: 5px; padding-right: 5px; }\n",
       ".output_html .hll { background-color: #ffffcc }\n",
       ".output_html { background: #f8f8f8; }\n",
       ".output_html .c { color: #3D7B7B; font-style: italic } /* Comment */\n",
       ".output_html .err { border: 1px solid #FF0000 } /* Error */\n",
       ".output_html .k { color: #008000; font-weight: bold } /* Keyword */\n",
       ".output_html .o { color: #666666 } /* Operator */\n",
       ".output_html .ch { color: #3D7B7B; font-style: italic } /* Comment.Hashbang */\n",
       ".output_html .cm { color: #3D7B7B; font-style: italic } /* Comment.Multiline */\n",
       ".output_html .cp { color: #9C6500 } /* Comment.Preproc */\n",
       ".output_html .cpf { color: #3D7B7B; font-style: italic } /* Comment.PreprocFile */\n",
       ".output_html .c1 { color: #3D7B7B; font-style: italic } /* Comment.Single */\n",
       ".output_html .cs { color: #3D7B7B; font-style: italic } /* Comment.Special */\n",
       ".output_html .gd { color: #A00000 } /* Generic.Deleted */\n",
       ".output_html .ge { font-style: italic } /* Generic.Emph */\n",
       ".output_html .gr { color: #E40000 } /* Generic.Error */\n",
       ".output_html .gh { color: #000080; font-weight: bold } /* Generic.Heading */\n",
       ".output_html .gi { color: #008400 } /* Generic.Inserted */\n",
       ".output_html .go { color: #717171 } /* Generic.Output */\n",
       ".output_html .gp { color: #000080; font-weight: bold } /* Generic.Prompt */\n",
       ".output_html .gs { font-weight: bold } /* Generic.Strong */\n",
       ".output_html .gu { color: #800080; font-weight: bold } /* Generic.Subheading */\n",
       ".output_html .gt { color: #0044DD } /* Generic.Traceback */\n",
       ".output_html .kc { color: #008000; font-weight: bold } /* Keyword.Constant */\n",
       ".output_html .kd { color: #008000; font-weight: bold } /* Keyword.Declaration */\n",
       ".output_html .kn { color: #008000; font-weight: bold } /* Keyword.Namespace */\n",
       ".output_html .kp { color: #008000 } /* Keyword.Pseudo */\n",
       ".output_html .kr { color: #008000; font-weight: bold } /* Keyword.Reserved */\n",
       ".output_html .kt { color: #B00040 } /* Keyword.Type */\n",
       ".output_html .m { color: #666666 } /* Literal.Number */\n",
       ".output_html .s { color: #BA2121 } /* Literal.String */\n",
       ".output_html .na { color: #687822 } /* Name.Attribute */\n",
       ".output_html .nb { color: #008000 } /* Name.Builtin */\n",
       ".output_html .nc { color: #0000FF; font-weight: bold } /* Name.Class */\n",
       ".output_html .no { color: #880000 } /* Name.Constant */\n",
       ".output_html .nd { color: #AA22FF } /* Name.Decorator */\n",
       ".output_html .ni { color: #717171; font-weight: bold } /* Name.Entity */\n",
       ".output_html .ne { color: #CB3F38; font-weight: bold } /* Name.Exception */\n",
       ".output_html .nf { color: #0000FF } /* Name.Function */\n",
       ".output_html .nl { color: #767600 } /* Name.Label */\n",
       ".output_html .nn { color: #0000FF; font-weight: bold } /* Name.Namespace */\n",
       ".output_html .nt { color: #008000; font-weight: bold } /* Name.Tag */\n",
       ".output_html .nv { color: #19177C } /* Name.Variable */\n",
       ".output_html .ow { color: #AA22FF; font-weight: bold } /* Operator.Word */\n",
       ".output_html .w { color: #bbbbbb } /* Text.Whitespace */\n",
       ".output_html .mb { color: #666666 } /* Literal.Number.Bin */\n",
       ".output_html .mf { color: #666666 } /* Literal.Number.Float */\n",
       ".output_html .mh { color: #666666 } /* Literal.Number.Hex */\n",
       ".output_html .mi { color: #666666 } /* Literal.Number.Integer */\n",
       ".output_html .mo { color: #666666 } /* Literal.Number.Oct */\n",
       ".output_html .sa { color: #BA2121 } /* Literal.String.Affix */\n",
       ".output_html .sb { color: #BA2121 } /* Literal.String.Backtick */\n",
       ".output_html .sc { color: #BA2121 } /* Literal.String.Char */\n",
       ".output_html .dl { color: #BA2121 } /* Literal.String.Delimiter */\n",
       ".output_html .sd { color: #BA2121; font-style: italic } /* Literal.String.Doc */\n",
       ".output_html .s2 { color: #BA2121 } /* Literal.String.Double */\n",
       ".output_html .se { color: #AA5D1F; font-weight: bold } /* Literal.String.Escape */\n",
       ".output_html .sh { color: #BA2121 } /* Literal.String.Heredoc */\n",
       ".output_html .si { color: #A45A77; font-weight: bold } /* Literal.String.Interpol */\n",
       ".output_html .sx { color: #008000 } /* Literal.String.Other */\n",
       ".output_html .sr { color: #A45A77 } /* Literal.String.Regex */\n",
       ".output_html .s1 { color: #BA2121 } /* Literal.String.Single */\n",
       ".output_html .ss { color: #19177C } /* Literal.String.Symbol */\n",
       ".output_html .bp { color: #008000 } /* Name.Builtin.Pseudo */\n",
       ".output_html .fm { color: #0000FF } /* Name.Function.Magic */\n",
       ".output_html .vc { color: #19177C } /* Name.Variable.Class */\n",
       ".output_html .vg { color: #19177C } /* Name.Variable.Global */\n",
       ".output_html .vi { color: #19177C } /* Name.Variable.Instance */\n",
       ".output_html .vm { color: #19177C } /* Name.Variable.Magic */\n",
       ".output_html .il { color: #666666 } /* Literal.Number.Integer.Long */</style><div class=\"highlight\"><pre><span></span><span class=\"kn\">import</span> <span class=\"nn\">pandas</span> <span class=\"k\">as</span> <span class=\"nn\">pd</span>\n",
       "<span class=\"kn\">from</span> <span class=\"nn\">pycaret.classification</span> <span class=\"kn\">import</span> <span class=\"n\">predict_model</span><span class=\"p\">,</span> <span class=\"n\">load_model</span>\n",
       "\n",
       "<span class=\"k\">def</span> <span class=\"nf\">load_data</span><span class=\"p\">(</span><span class=\"n\">filepath</span><span class=\"p\">):</span>\n",
       " \n",
       "    <span class=\"n\">df</span> <span class=\"o\">=</span> <span class=\"n\">pd</span><span class=\"o\">.</span><span class=\"n\">read_csv</span><span class=\"p\">(</span><span class=\"s1\">&#39;C:/Users/jenni/Documents/MSDS600/churn_data(1).csv&#39;</span><span class=\"p\">,</span> <span class=\"n\">index_col</span><span class=\"o\">=</span><span class=\"s1\">&#39;customerID&#39;</span><span class=\"p\">)</span>\n",
       "    <span class=\"k\">return</span> <span class=\"n\">df</span>\n",
       "\n",
       "\n",
       "<span class=\"k\">def</span> <span class=\"nf\">make_predictions</span><span class=\"p\">(</span><span class=\"n\">df</span><span class=\"p\">):</span>\n",
       "   \n",
       "    <span class=\"n\">model</span> <span class=\"o\">=</span> <span class=\"n\">load_model</span><span class=\"p\">(</span><span class=\"s1\">&#39;pycaret_model_js&#39;</span><span class=\"p\">)</span>\n",
       "    <span class=\"n\">predictions</span> <span class=\"o\">=</span> <span class=\"n\">predict_model</span><span class=\"p\">(</span><span class=\"n\">model</span><span class=\"p\">,</span> <span class=\"n\">data</span><span class=\"o\">=</span><span class=\"n\">df</span><span class=\"p\">)</span>\n",
       "    <span class=\"n\">predictions</span><span class=\"o\">.</span><span class=\"n\">rename</span><span class=\"p\">({</span><span class=\"s1\">&#39;Label&#39;</span><span class=\"p\">:</span> <span class=\"s1\">&#39;Churn_prediction&#39;</span><span class=\"p\">},</span> <span class=\"n\">axis</span><span class=\"o\">=</span><span class=\"mi\">1</span><span class=\"p\">,</span> <span class=\"n\">inplace</span><span class=\"o\">=</span><span class=\"kc\">True</span><span class=\"p\">)</span>\n",
       "    \n",
       "    <span class=\"k\">return</span> <span class=\"n\">predictions</span><span class=\"p\">[</span><span class=\"s1\">&#39;Churn&#39;</span><span class=\"p\">]</span>\n",
       "\n",
       "\n",
       "<span class=\"k\">if</span> <span class=\"vm\">__name__</span> <span class=\"o\">==</span> <span class=\"s2\">&quot;__main__&quot;</span><span class=\"p\">:</span>\n",
       "    <span class=\"n\">df</span> <span class=\"o\">=</span> <span class=\"n\">load_data</span><span class=\"p\">(</span><span class=\"s1\">&#39;C:/Users/jenni/Documents/MSDS600/churn_data(1).csv&#39;</span><span class=\"p\">)</span>\n",
       "    <span class=\"n\">predictions</span> <span class=\"o\">=</span> <span class=\"n\">make_predictions</span><span class=\"p\">(</span><span class=\"n\">df</span><span class=\"p\">)</span>\n",
       "    <span class=\"nb\">print</span><span class=\"p\">(</span><span class=\"s1\">&#39;predictions:&#39;</span><span class=\"p\">)</span>\n",
       "    <span class=\"nb\">print</span><span class=\"p\">(</span><span class=\"n\">predictions</span><span class=\"p\">)</span>\n",
       "</pre></div>\n"
      ],
      "text/latex": [
       "\\begin{Verbatim}[commandchars=\\\\\\{\\}]\n",
       "\\PY{k+kn}{import} \\PY{n+nn}{pandas} \\PY{k}{as} \\PY{n+nn}{pd}\n",
       "\\PY{k+kn}{from} \\PY{n+nn}{pycaret}\\PY{n+nn}{.}\\PY{n+nn}{classification} \\PY{k+kn}{import} \\PY{n}{predict\\PYZus{}model}\\PY{p}{,} \\PY{n}{load\\PYZus{}model}\n",
       "\n",
       "\\PY{k}{def} \\PY{n+nf}{load\\PYZus{}data}\\PY{p}{(}\\PY{n}{filepath}\\PY{p}{)}\\PY{p}{:}\n",
       " \n",
       "    \\PY{n}{df} \\PY{o}{=} \\PY{n}{pd}\\PY{o}{.}\\PY{n}{read\\PYZus{}csv}\\PY{p}{(}\\PY{l+s+s1}{\\PYZsq{}}\\PY{l+s+s1}{C:/Users/jenni/Documents/MSDS600/churn\\PYZus{}data(1).csv}\\PY{l+s+s1}{\\PYZsq{}}\\PY{p}{,} \\PY{n}{index\\PYZus{}col}\\PY{o}{=}\\PY{l+s+s1}{\\PYZsq{}}\\PY{l+s+s1}{customerID}\\PY{l+s+s1}{\\PYZsq{}}\\PY{p}{)}\n",
       "    \\PY{k}{return} \\PY{n}{df}\n",
       "\n",
       "\n",
       "\\PY{k}{def} \\PY{n+nf}{make\\PYZus{}predictions}\\PY{p}{(}\\PY{n}{df}\\PY{p}{)}\\PY{p}{:}\n",
       "   \n",
       "    \\PY{n}{model} \\PY{o}{=} \\PY{n}{load\\PYZus{}model}\\PY{p}{(}\\PY{l+s+s1}{\\PYZsq{}}\\PY{l+s+s1}{pycaret\\PYZus{}model\\PYZus{}js}\\PY{l+s+s1}{\\PYZsq{}}\\PY{p}{)}\n",
       "    \\PY{n}{predictions} \\PY{o}{=} \\PY{n}{predict\\PYZus{}model}\\PY{p}{(}\\PY{n}{model}\\PY{p}{,} \\PY{n}{data}\\PY{o}{=}\\PY{n}{df}\\PY{p}{)}\n",
       "    \\PY{n}{predictions}\\PY{o}{.}\\PY{n}{rename}\\PY{p}{(}\\PY{p}{\\PYZob{}}\\PY{l+s+s1}{\\PYZsq{}}\\PY{l+s+s1}{Label}\\PY{l+s+s1}{\\PYZsq{}}\\PY{p}{:} \\PY{l+s+s1}{\\PYZsq{}}\\PY{l+s+s1}{Churn\\PYZus{}prediction}\\PY{l+s+s1}{\\PYZsq{}}\\PY{p}{\\PYZcb{}}\\PY{p}{,} \\PY{n}{axis}\\PY{o}{=}\\PY{l+m+mi}{1}\\PY{p}{,} \\PY{n}{inplace}\\PY{o}{=}\\PY{k+kc}{True}\\PY{p}{)}\n",
       "    \n",
       "    \\PY{k}{return} \\PY{n}{predictions}\\PY{p}{[}\\PY{l+s+s1}{\\PYZsq{}}\\PY{l+s+s1}{Churn}\\PY{l+s+s1}{\\PYZsq{}}\\PY{p}{]}\n",
       "\n",
       "\n",
       "\\PY{k}{if} \\PY{n+nv+vm}{\\PYZus{}\\PYZus{}name\\PYZus{}\\PYZus{}} \\PY{o}{==} \\PY{l+s+s2}{\\PYZdq{}}\\PY{l+s+s2}{\\PYZus{}\\PYZus{}main\\PYZus{}\\PYZus{}}\\PY{l+s+s2}{\\PYZdq{}}\\PY{p}{:}\n",
       "    \\PY{n}{df} \\PY{o}{=} \\PY{n}{load\\PYZus{}data}\\PY{p}{(}\\PY{l+s+s1}{\\PYZsq{}}\\PY{l+s+s1}{C:/Users/jenni/Documents/MSDS600/churn\\PYZus{}data(1).csv}\\PY{l+s+s1}{\\PYZsq{}}\\PY{p}{)}\n",
       "    \\PY{n}{predictions} \\PY{o}{=} \\PY{n}{make\\PYZus{}predictions}\\PY{p}{(}\\PY{n}{df}\\PY{p}{)}\n",
       "    \\PY{n+nb}{print}\\PY{p}{(}\\PY{l+s+s1}{\\PYZsq{}}\\PY{l+s+s1}{predictions:}\\PY{l+s+s1}{\\PYZsq{}}\\PY{p}{)}\n",
       "    \\PY{n+nb}{print}\\PY{p}{(}\\PY{n}{predictions}\\PY{p}{)}\n",
       "\\end{Verbatim}\n"
      ],
      "text/plain": [
       "import pandas as pd\n",
       "from pycaret.classification import predict_model, load_model\n",
       "\n",
       "def load_data(filepath):\n",
       " \n",
       "    df = pd.read_csv('C:/Users/jenni/Documents/MSDS600/churn_data(1).csv', index_col='customerID')\n",
       "    return df\n",
       "\n",
       "\n",
       "def make_predictions(df):\n",
       "   \n",
       "    model = load_model('pycaret_model_js')\n",
       "    predictions = predict_model(model, data=df)\n",
       "    predictions.rename({'Label': 'Churn_prediction'}, axis=1, inplace=True)\n",
       "    \n",
       "    return predictions['Churn']\n",
       "\n",
       "\n",
       "if __name__ == \"__main__\":\n",
       "    df = load_data('C:/Users/jenni/Documents/MSDS600/churn_data(1).csv')\n",
       "    predictions = make_predictions(df)\n",
       "    print('predictions:')\n",
       "    print(predictions)"
      ]
     },
     "execution_count": 64,
     "metadata": {},
     "output_type": "execute_result"
    }
   ],
   "source": [
    "from IPython.display import Code\n",
    "\n",
    "Code('predict_churn_js.py')"
   ]
  },
  {
   "cell_type": "markdown",
   "id": "b95505be-7a93-46c8-8021-0ac1ce2b77b4",
   "metadata": {},
   "source": [
    "This part of the assignment really gave me fits.  Not because it was difficult, but because I can be a dingbat at times.  \n",
    "I wasn't grasping that I needed to create the file with the information above.  Serious face/palm moment.  "
   ]
  },
  {
   "cell_type": "code",
   "execution_count": 67,
   "id": "6c6fdd96-c2a7-471a-8244-982668ba6eb5",
   "metadata": {
    "tags": []
   },
   "outputs": [
    {
     "name": "stdout",
     "output_type": "stream",
     "text": [
      "Transformation Pipeline and Model Successfully Loaded\n"
     ]
    },
    {
     "data": {
      "text/html": [
       "<style type=\"text/css\">\n",
       "</style>\n",
       "<table id=\"T_561aa\">\n",
       "  <thead>\n",
       "    <tr>\n",
       "      <th class=\"blank level0\" >&nbsp;</th>\n",
       "      <th id=\"T_561aa_level0_col0\" class=\"col_heading level0 col0\" >Model</th>\n",
       "      <th id=\"T_561aa_level0_col1\" class=\"col_heading level0 col1\" >Accuracy</th>\n",
       "      <th id=\"T_561aa_level0_col2\" class=\"col_heading level0 col2\" >AUC</th>\n",
       "      <th id=\"T_561aa_level0_col3\" class=\"col_heading level0 col3\" >Recall</th>\n",
       "      <th id=\"T_561aa_level0_col4\" class=\"col_heading level0 col4\" >Prec.</th>\n",
       "      <th id=\"T_561aa_level0_col5\" class=\"col_heading level0 col5\" >F1</th>\n",
       "      <th id=\"T_561aa_level0_col6\" class=\"col_heading level0 col6\" >Kappa</th>\n",
       "      <th id=\"T_561aa_level0_col7\" class=\"col_heading level0 col7\" >MCC</th>\n",
       "    </tr>\n",
       "  </thead>\n",
       "  <tbody>\n",
       "    <tr>\n",
       "      <th id=\"T_561aa_level0_row0\" class=\"row_heading level0 row0\" >0</th>\n",
       "      <td id=\"T_561aa_row0_col0\" class=\"data row0 col0\" >Gradient Boosting Classifier</td>\n",
       "      <td id=\"T_561aa_row0_col1\" class=\"data row0 col1\" >0.8119</td>\n",
       "      <td id=\"T_561aa_row0_col2\" class=\"data row0 col2\" >0.8646</td>\n",
       "      <td id=\"T_561aa_row0_col3\" class=\"data row0 col3\" >0.8119</td>\n",
       "      <td id=\"T_561aa_row0_col4\" class=\"data row0 col4\" >0.8020</td>\n",
       "      <td id=\"T_561aa_row0_col5\" class=\"data row0 col5\" >0.8020</td>\n",
       "      <td id=\"T_561aa_row0_col6\" class=\"data row0 col6\" >0.4737</td>\n",
       "      <td id=\"T_561aa_row0_col7\" class=\"data row0 col7\" >0.4828</td>\n",
       "    </tr>\n",
       "  </tbody>\n",
       "</table>\n"
      ],
      "text/plain": [
       "<pandas.io.formats.style.Styler at 0x1e18e3d77c0>"
      ]
     },
     "metadata": {},
     "output_type": "display_data"
    },
    {
     "name": "stdout",
     "output_type": "stream",
     "text": [
      "predictions:\n",
      "customerID\n",
      "7590-VHVEG     No\n",
      "5575-GNVDE     No\n",
      "3668-QPYBK    Yes\n",
      "7795-CFOCW     No\n",
      "9237-HQITU    Yes\n",
      "             ... \n",
      "6840-RESVB     No\n",
      "2234-XADUH     No\n",
      "4801-JZAZL     No\n",
      "8361-LTMKD    Yes\n",
      "3186-AJIEK     No\n",
      "Name: Churn, Length: 7043, dtype: category\n",
      "Categories (2, object): ['No', 'Yes']\n"
     ]
    },
    {
     "data": {
      "text/plain": [
       "<Figure size 800x550 with 0 Axes>"
      ]
     },
     "metadata": {},
     "output_type": "display_data"
    }
   ],
   "source": [
    "%run predict_churn_js.py"
   ]
  },
  {
   "cell_type": "markdown",
   "id": "c49db562",
   "metadata": {},
   "source": [
    "# Summary"
   ]
  },
  {
   "cell_type": "markdown",
   "id": "9533a1cd",
   "metadata": {},
   "source": [
    "To get to this point, I followed both Nate's FTE and Christy's FTE.  There are some things that I was curious about (the way the autoML would \n",
    "handle the scrubbed data vs the raw).  I found it interesting that the autoML had a higher accuracy rate than the cleaned data.  \n",
    "\n",
    "It did take me a bit to figure out I needed to create the .py file on my own and the right way to do that.  Sometimes, I can complicate things\n",
    "more than I should!  Remembering the KISS principle isn't always easy.  \n",
    "\n",
    "The confusion plot run against the model indicates that it will be 82% accurate in predicting client churn."
   ]
  },
  {
   "cell_type": "code",
   "execution_count": null,
   "id": "6b0502a3-1597-4f40-8449-4086ee022b50",
   "metadata": {},
   "outputs": [],
   "source": []
  }
 ],
 "metadata": {
  "kernelspec": {
   "display_name": "week5",
   "language": "python",
   "name": "week5"
  },
  "language_info": {
   "codemirror_mode": {
    "name": "ipython",
    "version": 3
   },
   "file_extension": ".py",
   "mimetype": "text/x-python",
   "name": "python",
   "nbconvert_exporter": "python",
   "pygments_lexer": "ipython3",
   "version": "3.10.13"
  }
 },
 "nbformat": 4,
 "nbformat_minor": 5
}
